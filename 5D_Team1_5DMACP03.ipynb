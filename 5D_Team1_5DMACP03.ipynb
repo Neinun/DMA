{
  "nbformat": 4,
  "nbformat_minor": 0,
  "metadata": {
    "kernelspec": {
      "display_name": "Python 3",
      "language": "python",
      "name": "python3"
    },
    "language_info": {
      "codemirror_mode": {
        "name": "ipython",
        "version": 3
      },
      "file_extension": ".py",
      "mimetype": "text/x-python",
      "name": "python",
      "nbconvert_exporter": "python",
      "pygments_lexer": "ipython3",
      "version": "3.7.6"
    },
    "papermill": {
      "duration": 1987.761906,
      "end_time": "2021-01-03T22:57:02.648226",
      "environment_variables": {},
      "exception": null,
      "input_path": "__notebook__.ipynb",
      "output_path": "__notebook__.ipynb",
      "parameters": {},
      "start_time": "2021-01-03T22:23:54.886320",
      "version": "2.1.0"
    },
    "colab": {
      "name": "5D_Team1_5DMACP03.ipynb",
      "provenance": [],
      "collapsed_sections": []
    }
  },
  "cells": [
    {
      "cell_type": "markdown",
      "metadata": {
        "id": "WLiYHdIOS3Ko"
      },
      "source": [
        "# **Data Mining and Analysis Course Project**\r\n",
        "\r\n",
        "## **Team ID :** D1 \r\n",
        "## **Semester :** Fifth\r\n",
        "##**Division :** D\r\n",
        "##**Department :** Computer Science and Engineering\r\n",
        "##**Title ID :** 5DMACP03\r\n",
        "##**Title :** Riiid Answer Correctness Prediction\r\n",
        "###**Description :** The challenge is to create algorithms for \"Knowledge Tracing,\" the modeling of student knowledge over time. The goal is to accurately predict how students will perform on future interactions.\r\n",
        "**Team Leader :** Sumit Kumar Singh Roll : 438 USN : 01fe18bcs231\r\n",
        "\r\n",
        "\r\n",
        "|Name|Roll|USN|\r\n",
        "|----|----|----|\r\n",
        "|Naveen Kumar|460|01FE19BCS426|\r\n",
        "|Swati Mugda|444|01FE18BCS237|\r\n",
        "|Sneha Majjigudda|419|01FE18BCS211|\r\n",
        "|Sumit Kumar Singh|438|01FE18BCS231|\r\n",
        "\r\n"
      ]
    },
    {
      "cell_type": "code",
      "metadata": {
        "_cell_guid": "b1076dfc-b9ad-4769-8c92-a6c4dae69d19",
        "_uuid": "8f2839f25d086af736a60e9eeb907d3b93b6e0e5",
        "execution": {
          "iopub.execute_input": "2021-01-03T22:24:00.009709Z",
          "iopub.status.busy": "2021-01-03T22:24:00.008886Z",
          "iopub.status.idle": "2021-01-03T22:24:31.926841Z",
          "shell.execute_reply": "2021-01-03T22:24:31.926120Z"
        },
        "papermill": {
          "duration": 31.992652,
          "end_time": "2021-01-03T22:24:31.926997",
          "exception": false,
          "start_time": "2021-01-03T22:23:59.934345",
          "status": "completed"
        },
        "tags": [],
        "id": "RQ1dvx3_SnPC"
      },
      "source": [
        "!pip install ../input/python-datatable/datatable-0.11.0-cp37-cp37m-manylinux2010_x86_64.whl > /dev/null 2>&1"
      ],
      "execution_count": null,
      "outputs": []
    },
    {
      "cell_type": "markdown",
      "metadata": {
        "id": "c8fkfUbVTF7j"
      },
      "source": [
        "**Importing neccessary libraries**"
      ]
    },
    {
      "cell_type": "code",
      "metadata": {
        "execution": {
          "iopub.execute_input": "2021-01-03T22:24:32.069544Z",
          "iopub.status.busy": "2021-01-03T22:24:32.068692Z",
          "iopub.status.idle": "2021-01-03T22:24:32.266272Z",
          "shell.execute_reply": "2021-01-03T22:24:32.265451Z"
        },
        "papermill": {
          "duration": 0.271223,
          "end_time": "2021-01-03T22:24:32.266401",
          "exception": false,
          "start_time": "2021-01-03T22:24:31.995178",
          "status": "completed"
        },
        "tags": [],
        "id": "mGH0AKlHSnPH"
      },
      "source": [
        "import numpy as np\n",
        "import random\n",
        "import pandas as pd\n",
        "import joblib"
      ],
      "execution_count": null,
      "outputs": []
    },
    {
      "cell_type": "code",
      "metadata": {
        "_cell_guid": "79c7e3d0-c299-4dcb-8224-4455121ee9b0",
        "_uuid": "d629ff2d2480ee46fbb7e2d37f6b5fab8052498a",
        "execution": {
          "iopub.execute_input": "2021-01-03T22:24:32.409103Z",
          "iopub.status.busy": "2021-01-03T22:24:32.407939Z",
          "iopub.status.idle": "2021-01-03T22:24:33.514164Z",
          "shell.execute_reply": "2021-01-03T22:24:33.515204Z"
        },
        "papermill": {
          "duration": 1.180831,
          "end_time": "2021-01-03T22:24:33.515383",
          "exception": false,
          "start_time": "2021-01-03T22:24:32.334552",
          "status": "completed"
        },
        "tags": [],
        "id": "keSj0iljSnPI",
        "outputId": "d3dea64f-8258-49cc-da2a-84ca43c068c5"
      },
      "source": [
        "from collections import defaultdict\n",
        "import datatable as dt\n",
        "import lightgbm as lgb\n",
        "from matplotlib import pyplot as plt\n",
        "import riiideducation\n",
        "from sklearn.metrics import roc_auc_score\n",
        "import gc\n",
        "\n",
        "_ = np.seterr(divide='ignore', invalid='ignore')"
      ],
      "execution_count": null,
      "outputs": [
        {
          "output_type": "display_data",
          "data": {
            "text/html": [
              "<style type='text/css'>\n",
              ".datatable table.frame { margin-bottom: 0; }\n",
              ".datatable table.frame thead { border-bottom: none; }\n",
              ".datatable table.frame tr.coltypes td {  color: #FFFFFF;  line-height: 6px;  padding: 0 0.5em;}\n",
              ".datatable .bool    { background: #DDDD99; }\n",
              ".datatable .object  { background: #565656; }\n",
              ".datatable .int     { background: #5D9E5D; }\n",
              ".datatable .float   { background: #4040CC; }\n",
              ".datatable .str     { background: #CC4040; }\n",
              ".datatable .row_index {  background: var(--jp-border-color3);  border-right: 1px solid var(--jp-border-color0);  color: var(--jp-ui-font-color3);  font-size: 9px;}\n",
              ".datatable .frame tr.coltypes .row_index {  background: var(--jp-border-color0);}\n",
              ".datatable th:nth-child(2) { padding-left: 12px; }\n",
              ".datatable .hellipsis {  color: var(--jp-cell-editor-border-color);}\n",
              ".datatable .vellipsis {  background: var(--jp-layout-color0);  color: var(--jp-cell-editor-border-color);}\n",
              ".datatable .na {  color: var(--jp-cell-editor-border-color);  font-size: 80%;}\n",
              ".datatable .footer { font-size: 9px; }\n",
              ".datatable .frame_dimensions {  background: var(--jp-border-color3);  border-top: 1px solid var(--jp-border-color0);  color: var(--jp-ui-font-color3);  display: inline-block;  opacity: 0.6;  padding: 1px 10px 1px 5px;}\n",
              "</style>\n"
            ],
            "text/plain": [
              "<IPython.core.display.HTML object>"
            ]
          },
          "metadata": {
            "tags": []
          }
        }
      ]
    },
    {
      "cell_type": "markdown",
      "metadata": {
        "papermill": {
          "duration": 0.069005,
          "end_time": "2021-01-03T22:24:33.654293",
          "exception": false,
          "start_time": "2021-01-03T22:24:33.585288",
          "status": "completed"
        },
        "tags": [],
        "id": "TrhMr87KSnPJ"
      },
      "source": [
        "# Preprocess"
      ]
    },
    {
      "cell_type": "code",
      "metadata": {
        "execution": {
          "iopub.execute_input": "2021-01-03T22:24:33.799837Z",
          "iopub.status.busy": "2021-01-03T22:24:33.798758Z",
          "iopub.status.idle": "2021-01-03T22:24:33.802561Z",
          "shell.execute_reply": "2021-01-03T22:24:33.804931Z"
        },
        "papermill": {
          "duration": 0.082336,
          "end_time": "2021-01-03T22:24:33.805371",
          "exception": false,
          "start_time": "2021-01-03T22:24:33.723035",
          "status": "completed"
        },
        "tags": [],
        "id": "fDdl4f1QSnPJ"
      },
      "source": [
        "data_types_dict = {\n",
        "    'timestamp': 'int64',\n",
        "    'user_id': 'int32', \n",
        "    'content_id': 'int16', \n",
        "    'content_type_id':'int8', \n",
        "    'task_container_id': 'int16',\n",
        "    'answered_correctly': 'int8', \n",
        "    'prior_question_elapsed_time': 'float32', \n",
        "    'prior_question_had_explanation': 'bool'\n",
        "}\n",
        "target = 'answered_correctly'"
      ],
      "execution_count": null,
      "outputs": []
    },
    {
      "cell_type": "code",
      "metadata": {
        "execution": {
          "iopub.execute_input": "2021-01-03T22:24:33.956972Z",
          "iopub.status.busy": "2021-01-03T22:24:33.955544Z",
          "iopub.status.idle": "2021-01-03T22:26:26.477856Z",
          "shell.execute_reply": "2021-01-03T22:26:26.477011Z"
        },
        "papermill": {
          "duration": 112.599297,
          "end_time": "2021-01-03T22:26:26.478038",
          "exception": false,
          "start_time": "2021-01-03T22:24:33.878741",
          "status": "completed"
        },
        "tags": [],
        "id": "17IvizcBSnPJ",
        "outputId": "e8d77840-6369-41ce-d7d8-620f627a1867"
      },
      "source": [
        "print('start read train data...')\n",
        "train_df = dt.fread('../input/riiid-test-answer-prediction/train.csv', columns=set(data_types_dict.keys())).to_pandas()"
      ],
      "execution_count": null,
      "outputs": [
        {
          "output_type": "stream",
          "text": [
            "start read train data...\n"
          ],
          "name": "stdout"
        }
      ]
    },
    {
      "cell_type": "code",
      "metadata": {
        "execution": {
          "iopub.execute_input": "2021-01-03T22:26:26.621014Z",
          "iopub.status.busy": "2021-01-03T22:26:26.620139Z",
          "iopub.status.idle": "2021-01-03T22:26:26.623530Z",
          "shell.execute_reply": "2021-01-03T22:26:26.624178Z"
        },
        "papermill": {
          "duration": 0.076745,
          "end_time": "2021-01-03T22:26:26.624345",
          "exception": false,
          "start_time": "2021-01-03T22:26:26.547600",
          "status": "completed"
        },
        "tags": [],
        "id": "g7bDag3CSnPK",
        "outputId": "25d1ebee-219b-4551-eaa6-955553b01147"
      },
      "source": [
        "print('start handle lecture data...')"
      ],
      "execution_count": null,
      "outputs": [
        {
          "output_type": "stream",
          "text": [
            "start handle lecture data...\n"
          ],
          "name": "stdout"
        }
      ]
    },
    {
      "cell_type": "code",
      "metadata": {
        "execution": {
          "iopub.execute_input": "2021-01-03T22:26:26.775158Z",
          "iopub.status.busy": "2021-01-03T22:26:26.774333Z",
          "iopub.status.idle": "2021-01-03T22:26:26.792898Z",
          "shell.execute_reply": "2021-01-03T22:26:26.792104Z"
        },
        "papermill": {
          "duration": 0.100115,
          "end_time": "2021-01-03T22:26:26.793034",
          "exception": false,
          "start_time": "2021-01-03T22:26:26.692919",
          "status": "completed"
        },
        "tags": [],
        "id": "1A78kV2QSnPK"
      },
      "source": [
        "lectures_df = pd.read_csv('/kaggle/input/riiid-test-answer-prediction/lectures.csv')"
      ],
      "execution_count": null,
      "outputs": []
    },
    {
      "cell_type": "code",
      "metadata": {
        "execution": {
          "iopub.execute_input": "2021-01-03T22:26:26.960946Z",
          "iopub.status.busy": "2021-01-03T22:26:26.958761Z",
          "iopub.status.idle": "2021-01-03T22:26:26.964285Z",
          "shell.execute_reply": "2021-01-03T22:26:26.963684Z"
        },
        "papermill": {
          "duration": 0.102582,
          "end_time": "2021-01-03T22:26:26.964418",
          "exception": false,
          "start_time": "2021-01-03T22:26:26.861836",
          "status": "completed"
        },
        "tags": [],
        "id": "GP_HLMRoSnPK"
      },
      "source": [
        "lectures_df['type_of'] = lectures_df['type_of'].replace('solving question', 'solving_question')\n",
        "\n",
        "lectures_df = pd.get_dummies(lectures_df, columns=['part', 'type_of'])\n",
        "\n",
        "part_lectures_columns = [column for column in lectures_df.columns if column.startswith('part')]\n",
        "\n",
        "types_of_lectures_columns = [column for column in lectures_df.columns if column.startswith('type_of_')]"
      ],
      "execution_count": null,
      "outputs": []
    },
    {
      "cell_type": "code",
      "metadata": {
        "execution": {
          "iopub.execute_input": "2021-01-03T22:26:27.108048Z",
          "iopub.status.busy": "2021-01-03T22:26:27.107293Z",
          "iopub.status.idle": "2021-01-03T22:26:28.309911Z",
          "shell.execute_reply": "2021-01-03T22:26:28.310461Z"
        },
        "papermill": {
          "duration": 1.277499,
          "end_time": "2021-01-03T22:26:28.310663",
          "exception": false,
          "start_time": "2021-01-03T22:26:27.033164",
          "status": "completed"
        },
        "tags": [],
        "id": "SsF9chPkSnPK"
      },
      "source": [
        "train_lectures = train_df[train_df.content_type_id == True].merge(lectures_df, left_on='content_id', right_on='lecture_id', how='left')"
      ],
      "execution_count": null,
      "outputs": []
    },
    {
      "cell_type": "code",
      "metadata": {
        "execution": {
          "iopub.execute_input": "2021-01-03T22:26:28.455239Z",
          "iopub.status.busy": "2021-01-03T22:26:28.454467Z",
          "iopub.status.idle": "2021-01-03T22:26:29.102887Z",
          "shell.execute_reply": "2021-01-03T22:26:29.102099Z"
        },
        "papermill": {
          "duration": 0.723631,
          "end_time": "2021-01-03T22:26:29.103016",
          "exception": false,
          "start_time": "2021-01-03T22:26:28.379385",
          "status": "completed"
        },
        "tags": [],
        "id": "9mViRMo0SnPL"
      },
      "source": [
        "user_lecture_stats_part = train_lectures.groupby('user_id',as_index = False)[part_lectures_columns + types_of_lectures_columns].sum()"
      ],
      "execution_count": null,
      "outputs": []
    },
    {
      "cell_type": "code",
      "metadata": {
        "execution": {
          "iopub.execute_input": "2021-01-03T22:26:29.250922Z",
          "iopub.status.busy": "2021-01-03T22:26:29.249763Z",
          "iopub.status.idle": "2021-01-03T22:26:29.261287Z",
          "shell.execute_reply": "2021-01-03T22:26:29.260643Z"
        },
        "papermill": {
          "duration": 0.088587,
          "end_time": "2021-01-03T22:26:29.261412",
          "exception": false,
          "start_time": "2021-01-03T22:26:29.172825",
          "status": "completed"
        },
        "tags": [],
        "id": "Ei9u4k4kSnPL"
      },
      "source": [
        "lecturedata_types_dict = {   \n",
        "    'user_id': 'int32', \n",
        "    'part_1': 'int8',\n",
        "    'part_2': 'int8',\n",
        "    'part_3': 'int8',\n",
        "    'part_4': 'int8',\n",
        "    'part_5': 'int8',\n",
        "    'part_6': 'int8',\n",
        "    'part_7': 'int8',\n",
        "    'type_of_concept': 'int8',\n",
        "    'type_of_intention': 'int8',\n",
        "    'type_of_solving_question': 'int8',\n",
        "    'type_of_starter': 'int8'\n",
        "}\n",
        "user_lecture_stats_part = user_lecture_stats_part.astype(lecturedata_types_dict)"
      ],
      "execution_count": null,
      "outputs": []
    },
    {
      "cell_type": "code",
      "metadata": {
        "execution": {
          "iopub.execute_input": "2021-01-03T22:26:29.407427Z",
          "iopub.status.busy": "2021-01-03T22:26:29.406216Z",
          "iopub.status.idle": "2021-01-03T22:26:29.417424Z",
          "shell.execute_reply": "2021-01-03T22:26:29.416790Z"
        },
        "papermill": {
          "duration": 0.086558,
          "end_time": "2021-01-03T22:26:29.417567",
          "exception": false,
          "start_time": "2021-01-03T22:26:29.331009",
          "status": "completed"
        },
        "tags": [],
        "id": "IeQIL0tgSnPL"
      },
      "source": [
        "for column in user_lecture_stats_part.columns:\n",
        "    if(column !='user_id'):\n",
        "        user_lecture_stats_part[column] = (user_lecture_stats_part[column] > 0).astype('int8')"
      ],
      "execution_count": null,
      "outputs": []
    },
    {
      "cell_type": "code",
      "metadata": {
        "execution": {
          "iopub.execute_input": "2021-01-03T22:26:29.565455Z",
          "iopub.status.busy": "2021-01-03T22:26:29.564334Z",
          "iopub.status.idle": "2021-01-03T22:26:29.568958Z",
          "shell.execute_reply": "2021-01-03T22:26:29.568309Z"
        },
        "papermill": {
          "duration": 0.082052,
          "end_time": "2021-01-03T22:26:29.569086",
          "exception": false,
          "start_time": "2021-01-03T22:26:29.487034",
          "status": "completed"
        },
        "tags": [],
        "id": "CRJffhvaSnPL",
        "outputId": "df13a949-a81b-4e6e-b474-a31dcc8e543f"
      },
      "source": [
        "user_lecture_stats_part.dtypes"
      ],
      "execution_count": null,
      "outputs": [
        {
          "output_type": "execute_result",
          "data": {
            "text/plain": [
              "user_id                     int32\n",
              "part_1                       int8\n",
              "part_2                       int8\n",
              "part_3                       int8\n",
              "part_4                       int8\n",
              "part_5                       int8\n",
              "part_6                       int8\n",
              "part_7                       int8\n",
              "type_of_concept              int8\n",
              "type_of_intention            int8\n",
              "type_of_solving_question     int8\n",
              "type_of_starter              int8\n",
              "dtype: object"
            ]
          },
          "metadata": {
            "tags": []
          },
          "execution_count": 13
        }
      ]
    },
    {
      "cell_type": "code",
      "metadata": {
        "execution": {
          "iopub.execute_input": "2021-01-03T22:26:29.803401Z",
          "iopub.status.busy": "2021-01-03T22:26:29.802315Z",
          "iopub.status.idle": "2021-01-03T22:26:29.806389Z",
          "shell.execute_reply": "2021-01-03T22:26:29.807131Z"
        },
        "papermill": {
          "duration": 0.168106,
          "end_time": "2021-01-03T22:26:29.807289",
          "exception": false,
          "start_time": "2021-01-03T22:26:29.639183",
          "status": "completed"
        },
        "tags": [],
        "id": "5PFwg5VdSnPM",
        "outputId": "9f2032ba-5616-4d65-cabb-3ad3d6450ab5"
      },
      "source": [
        "\n",
        "del(train_lectures)\n",
        "gc.collect()"
      ],
      "execution_count": null,
      "outputs": [
        {
          "output_type": "execute_result",
          "data": {
            "text/plain": [
              "80"
            ]
          },
          "metadata": {
            "tags": []
          },
          "execution_count": 14
        }
      ]
    },
    {
      "cell_type": "code",
      "metadata": {
        "execution": {
          "iopub.execute_input": "2021-01-03T22:26:29.955217Z",
          "iopub.status.busy": "2021-01-03T22:26:29.954426Z",
          "iopub.status.idle": "2021-01-03T22:26:35.348258Z",
          "shell.execute_reply": "2021-01-03T22:26:35.347585Z"
        },
        "papermill": {
          "duration": 5.470711,
          "end_time": "2021-01-03T22:26:35.348383",
          "exception": false,
          "start_time": "2021-01-03T22:26:29.877672",
          "status": "completed"
        },
        "tags": [],
        "id": "tDyBjq6xSnPM"
      },
      "source": [
        "user_lecture_agg = train_df.groupby('user_id')['content_type_id'].agg(['sum', 'count'])\n",
        "user_lecture_agg=user_lecture_agg.astype('int16')"
      ],
      "execution_count": null,
      "outputs": []
    },
    {
      "cell_type": "code",
      "metadata": {
        "execution": {
          "iopub.execute_input": "2021-01-03T22:26:35.501311Z",
          "iopub.status.busy": "2021-01-03T22:26:35.500499Z",
          "iopub.status.idle": "2021-01-03T22:26:50.889790Z",
          "shell.execute_reply": "2021-01-03T22:26:50.888996Z"
        },
        "papermill": {
          "duration": 15.470714,
          "end_time": "2021-01-03T22:26:50.889923",
          "exception": false,
          "start_time": "2021-01-03T22:26:35.419209",
          "status": "completed"
        },
        "tags": [],
        "id": "OZ6cgFzySnPM"
      },
      "source": [
        "cum = train_df.groupby('user_id')['content_type_id'].agg(['cumsum', 'cumcount'])\n",
        "cum['cumcount']=cum['cumcount']+1\n",
        "train_df['user_interaction_count'] = cum['cumcount'] \n",
        "train_df['user_interaction_timestamp_mean'] = train_df['timestamp']/cum['cumcount'] \n",
        "train_df['user_lecture_sum'] = cum['cumsum'] \n",
        "train_df['user_lecture_lv'] = cum['cumsum'] / cum['cumcount']\n",
        "\n",
        "\n",
        "train_df.user_lecture_lv=train_df.user_lecture_lv.astype('float16')\n",
        "train_df.user_lecture_sum=train_df.user_lecture_sum.astype('int16')\n",
        "train_df.user_interaction_count=train_df.user_interaction_count.astype('int16')\n",
        "train_df['user_interaction_timestamp_mean']=train_df['user_interaction_timestamp_mean']/(1000*3600)\n",
        "train_df.user_interaction_timestamp_mean=train_df.user_interaction_timestamp_mean.astype('float32')\n"
      ],
      "execution_count": null,
      "outputs": []
    },
    {
      "cell_type": "code",
      "metadata": {
        "execution": {
          "iopub.execute_input": "2021-01-03T22:26:51.123245Z",
          "iopub.status.busy": "2021-01-03T22:26:51.122124Z",
          "iopub.status.idle": "2021-01-03T22:26:51.126469Z",
          "shell.execute_reply": "2021-01-03T22:26:51.125768Z"
        },
        "papermill": {
          "duration": 0.16431,
          "end_time": "2021-01-03T22:26:51.126600",
          "exception": false,
          "start_time": "2021-01-03T22:26:50.962290",
          "status": "completed"
        },
        "tags": [],
        "id": "LBD1PqkESnPM",
        "outputId": "ef1d0a2c-4740-4e5a-b48d-a2d1bfae2243"
      },
      "source": [
        "del cum\n",
        "gc.collect()"
      ],
      "execution_count": null,
      "outputs": [
        {
          "output_type": "execute_result",
          "data": {
            "text/plain": [
              "77"
            ]
          },
          "metadata": {
            "tags": []
          },
          "execution_count": 17
        }
      ]
    },
    {
      "cell_type": "code",
      "metadata": {
        "execution": {
          "iopub.execute_input": "2021-01-03T22:26:51.275976Z",
          "iopub.status.busy": "2021-01-03T22:26:51.275013Z",
          "iopub.status.idle": "2021-01-03T22:26:51.278563Z",
          "shell.execute_reply": "2021-01-03T22:26:51.279191Z"
        },
        "papermill": {
          "duration": 0.080489,
          "end_time": "2021-01-03T22:26:51.279348",
          "exception": false,
          "start_time": "2021-01-03T22:26:51.198859",
          "status": "completed"
        },
        "tags": [],
        "id": "nw7pkj5aSnPM",
        "outputId": "3b3a379b-548e-4954-807b-8329b3633049"
      },
      "source": [
        "print('start handle train_df...')"
      ],
      "execution_count": null,
      "outputs": [
        {
          "output_type": "stream",
          "text": [
            "start handle train_df...\n"
          ],
          "name": "stdout"
        }
      ]
    },
    {
      "cell_type": "code",
      "metadata": {
        "execution": {
          "iopub.execute_input": "2021-01-03T22:27:02.603941Z",
          "iopub.status.busy": "2021-01-03T22:27:02.603154Z",
          "iopub.status.idle": "2021-01-03T22:27:22.259055Z",
          "shell.execute_reply": "2021-01-03T22:27:22.258388Z"
        },
        "papermill": {
          "duration": 30.907319,
          "end_time": "2021-01-03T22:27:22.259195",
          "exception": false,
          "start_time": "2021-01-03T22:26:51.351876",
          "status": "completed"
        },
        "tags": [],
        "id": "eNAVgmENSnPN"
      },
      "source": [
        "train_df['prior_question_had_explanation'].fillna(False, inplace=True)\n",
        "train_df = train_df.astype(data_types_dict)\n",
        "train_df = train_df[train_df[target] != -1].reset_index(drop=True)"
      ],
      "execution_count": null,
      "outputs": []
    },
    {
      "cell_type": "code",
      "metadata": {
        "execution": {
          "iopub.execute_input": "2021-01-03T22:27:22.885917Z",
          "iopub.status.busy": "2021-01-03T22:27:22.525820Z",
          "iopub.status.idle": "2021-01-03T22:27:29.392499Z",
          "shell.execute_reply": "2021-01-03T22:27:29.391851Z"
        },
        "papermill": {
          "duration": 7.060164,
          "end_time": "2021-01-03T22:27:29.392648",
          "exception": false,
          "start_time": "2021-01-03T22:27:22.332484",
          "status": "completed"
        },
        "tags": [],
        "id": "LhpK8D0JSnPN"
      },
      "source": [
        "content_explation_agg=train_df[[\"content_id\",\"prior_question_had_explanation\",target]].groupby([\"content_id\",\"prior_question_had_explanation\"])[target].agg(['mean'])"
      ],
      "execution_count": null,
      "outputs": []
    },
    {
      "cell_type": "code",
      "metadata": {
        "execution": {
          "iopub.execute_input": "2021-01-03T22:27:29.544912Z",
          "iopub.status.busy": "2021-01-03T22:27:29.543848Z",
          "iopub.status.idle": "2021-01-03T22:27:29.548298Z",
          "shell.execute_reply": "2021-01-03T22:27:29.547580Z"
        },
        "papermill": {
          "duration": 0.0833,
          "end_time": "2021-01-03T22:27:29.548423",
          "exception": false,
          "start_time": "2021-01-03T22:27:29.465123",
          "status": "completed"
        },
        "tags": [],
        "id": "-9G1l8nySnPN",
        "outputId": "a5203a16-3f6a-484b-a929-7b21f3ad3fee"
      },
      "source": [
        "content_explation_agg.dtypes"
      ],
      "execution_count": null,
      "outputs": [
        {
          "output_type": "execute_result",
          "data": {
            "text/plain": [
              "mean    float64\n",
              "dtype: object"
            ]
          },
          "metadata": {
            "tags": []
          },
          "execution_count": 21
        }
      ]
    },
    {
      "cell_type": "code",
      "metadata": {
        "execution": {
          "iopub.execute_input": "2021-01-03T22:27:29.700147Z",
          "iopub.status.busy": "2021-01-03T22:27:29.699299Z",
          "iopub.status.idle": "2021-01-03T22:27:29.718827Z",
          "shell.execute_reply": "2021-01-03T22:27:29.718058Z"
        },
        "papermill": {
          "duration": 0.097752,
          "end_time": "2021-01-03T22:27:29.718953",
          "exception": false,
          "start_time": "2021-01-03T22:27:29.621201",
          "status": "completed"
        },
        "tags": [],
        "id": "UhBU3Co_SnPN"
      },
      "source": [
        "content_explation_agg=content_explation_agg.unstack()\n",
        "\n",
        "content_explation_agg=content_explation_agg.reset_index()\n",
        "content_explation_agg.columns = ['content_id', 'content_explation_false_mean','content_explation_true_mean']"
      ],
      "execution_count": null,
      "outputs": []
    },
    {
      "cell_type": "code",
      "metadata": {
        "execution": {
          "iopub.execute_input": "2021-01-03T22:27:29.872124Z",
          "iopub.status.busy": "2021-01-03T22:27:29.871312Z",
          "iopub.status.idle": "2021-01-03T22:27:29.876444Z",
          "shell.execute_reply": "2021-01-03T22:27:29.875757Z"
        },
        "papermill": {
          "duration": 0.08459,
          "end_time": "2021-01-03T22:27:29.876574",
          "exception": false,
          "start_time": "2021-01-03T22:27:29.791984",
          "status": "completed"
        },
        "tags": [],
        "id": "CCi7Mmc7SnPN"
      },
      "source": [
        "content_explation_agg.content_id=content_explation_agg.content_id.astype('int16')\n",
        "content_explation_agg.content_explation_false_mean=content_explation_agg.content_explation_false_mean.astype('float16')\n",
        "content_explation_agg.content_explation_true_mean=content_explation_agg.content_explation_true_mean.astype('float16')"
      ],
      "execution_count": null,
      "outputs": []
    },
    {
      "cell_type": "code",
      "metadata": {
        "execution": {
          "iopub.execute_input": "2021-01-03T22:27:30.029095Z",
          "iopub.status.busy": "2021-01-03T22:27:30.028121Z",
          "iopub.status.idle": "2021-01-03T22:27:30.031739Z",
          "shell.execute_reply": "2021-01-03T22:27:30.032444Z"
        },
        "papermill": {
          "duration": 0.082148,
          "end_time": "2021-01-03T22:27:30.032609",
          "exception": false,
          "start_time": "2021-01-03T22:27:29.950461",
          "status": "completed"
        },
        "tags": [],
        "id": "l4kN7sxASnPO",
        "outputId": "4ebb594b-4120-4adf-fda9-77b31d3588f3"
      },
      "source": [
        "print('start handle attempt_no...')"
      ],
      "execution_count": null,
      "outputs": [
        {
          "output_type": "stream",
          "text": [
            "start handle attempt_no...\n"
          ],
          "name": "stdout"
        }
      ]
    },
    {
      "cell_type": "code",
      "metadata": {
        "execution": {
          "iopub.execute_input": "2021-01-03T22:27:30.188364Z",
          "iopub.status.busy": "2021-01-03T22:27:30.187538Z",
          "iopub.status.idle": "2021-01-03T22:29:29.378423Z",
          "shell.execute_reply": "2021-01-03T22:29:29.377759Z"
        },
        "papermill": {
          "duration": 119.272458,
          "end_time": "2021-01-03T22:29:29.378581",
          "exception": false,
          "start_time": "2021-01-03T22:27:30.106123",
          "status": "completed"
        },
        "tags": [],
        "id": "zNoWkfsdSnPO"
      },
      "source": [
        "\n",
        "train_df[\"attempt_no\"] = 1\n",
        "train_df.attempt_no=train_df.attempt_no.astype('int8')\n",
        "attempt_no_agg=train_df.groupby([\"user_id\",\"content_id\"])[\"attempt_no\"].agg(['sum']).astype('int8')\n",
        "train_df[\"attempt_no\"] = train_df[[\"user_id\",\"content_id\",'attempt_no']].groupby([\"user_id\",\"content_id\"])[\"attempt_no\"].cumsum()"
      ],
      "execution_count": null,
      "outputs": []
    },
    {
      "cell_type": "code",
      "metadata": {
        "execution": {
          "iopub.execute_input": "2021-01-03T22:29:29.532332Z",
          "iopub.status.busy": "2021-01-03T22:29:29.531559Z",
          "iopub.status.idle": "2021-01-03T22:29:29.936849Z",
          "shell.execute_reply": "2021-01-03T22:29:29.937415Z"
        },
        "papermill": {
          "duration": 0.484803,
          "end_time": "2021-01-03T22:29:29.937596",
          "exception": false,
          "start_time": "2021-01-03T22:29:29.452793",
          "status": "completed"
        },
        "tags": [],
        "id": "pf7fp_1ZSnPO"
      },
      "source": [
        "attempt_no_agg=attempt_no_agg[attempt_no_agg['sum'] >1]"
      ],
      "execution_count": null,
      "outputs": []
    },
    {
      "cell_type": "code",
      "metadata": {
        "execution": {
          "iopub.execute_input": "2021-01-03T22:29:30.096253Z",
          "iopub.status.busy": "2021-01-03T22:29:30.095415Z",
          "iopub.status.idle": "2021-01-03T22:29:30.399669Z",
          "shell.execute_reply": "2021-01-03T22:29:30.400544Z"
        },
        "papermill": {
          "duration": 0.387169,
          "end_time": "2021-01-03T22:29:30.400856",
          "exception": false,
          "start_time": "2021-01-03T22:29:30.013687",
          "status": "completed"
        },
        "tags": [],
        "id": "grS6EoEsSnPO",
        "outputId": "b1b0fecd-84be-47df-e518-1be12b4e2d8b"
      },
      "source": [
        "print('start handle timestamp...')\n",
        "prior_question_elapsed_time_mean=train_df['prior_question_elapsed_time'].mean()\n",
        "train_df['prior_question_elapsed_time'].fillna(prior_question_elapsed_time_mean, inplace=True)"
      ],
      "execution_count": null,
      "outputs": [
        {
          "output_type": "stream",
          "text": [
            "start handle timestamp...\n"
          ],
          "name": "stdout"
        }
      ]
    },
    {
      "cell_type": "code",
      "metadata": {
        "execution": {
          "iopub.execute_input": "2021-01-03T22:29:31.887665Z",
          "iopub.status.busy": "2021-01-03T22:29:31.886894Z",
          "iopub.status.idle": "2021-01-03T22:29:34.863456Z",
          "shell.execute_reply": "2021-01-03T22:29:34.862793Z"
        },
        "papermill": {
          "duration": 4.382449,
          "end_time": "2021-01-03T22:29:34.863586",
          "exception": false,
          "start_time": "2021-01-03T22:29:30.481137",
          "status": "completed"
        },
        "tags": [],
        "id": "8neM6emXSnPO"
      },
      "source": [
        "max_timestamp_u = train_df[['user_id','timestamp']].groupby(['user_id']).agg(['max']).reset_index()\n",
        "max_timestamp_u.columns = ['user_id', 'max_time_stamp']\n",
        "max_timestamp_u.user_id=max_timestamp_u.user_id.astype('int32')"
      ],
      "execution_count": null,
      "outputs": []
    },
    {
      "cell_type": "code",
      "metadata": {
        "execution": {
          "iopub.execute_input": "2021-01-03T22:29:35.024825Z",
          "iopub.status.busy": "2021-01-03T22:29:35.023318Z",
          "iopub.status.idle": "2021-01-03T22:29:44.685299Z",
          "shell.execute_reply": "2021-01-03T22:29:44.684456Z"
        },
        "papermill": {
          "duration": 9.746281,
          "end_time": "2021-01-03T22:29:44.685440",
          "exception": false,
          "start_time": "2021-01-03T22:29:34.939159",
          "status": "completed"
        },
        "tags": [],
        "id": "3q6xKlRsSnPP"
      },
      "source": [
        "\n",
        "train_df['lagtime'] = train_df.groupby('user_id')['timestamp'].shift()\n",
        "\n",
        "max_timestamp_u2 = train_df[['user_id','lagtime']].groupby(['user_id']).agg(['max']).reset_index()\n",
        "max_timestamp_u2.columns = ['user_id', 'max_time_stamp2']\n",
        "max_timestamp_u2.user_id=max_timestamp_u2.user_id.astype('int32')"
      ],
      "execution_count": null,
      "outputs": []
    },
    {
      "cell_type": "code",
      "metadata": {
        "execution": {
          "iopub.execute_input": "2021-01-03T22:29:44.854603Z",
          "iopub.status.busy": "2021-01-03T22:29:44.853038Z",
          "iopub.status.idle": "2021-01-03T22:29:45.904182Z",
          "shell.execute_reply": "2021-01-03T22:29:45.903447Z"
        },
        "papermill": {
          "duration": 1.143228,
          "end_time": "2021-01-03T22:29:45.904328",
          "exception": false,
          "start_time": "2021-01-03T22:29:44.761100",
          "status": "completed"
        },
        "tags": [],
        "id": "Cd7E-HgVSnPP"
      },
      "source": [
        "train_df['lagtime']=train_df['timestamp']-train_df['lagtime']\n",
        "lagtime_mean=train_df['lagtime'].mean()\n",
        "train_df['lagtime'].fillna(lagtime_mean, inplace=True)"
      ],
      "execution_count": null,
      "outputs": []
    },
    {
      "cell_type": "code",
      "metadata": {
        "execution": {
          "iopub.execute_input": "2021-01-03T22:29:46.074685Z",
          "iopub.status.busy": "2021-01-03T22:29:46.073261Z",
          "iopub.status.idle": "2021-01-03T22:29:47.017535Z",
          "shell.execute_reply": "2021-01-03T22:29:47.016886Z"
        },
        "papermill": {
          "duration": 1.036487,
          "end_time": "2021-01-03T22:29:47.017704",
          "exception": false,
          "start_time": "2021-01-03T22:29:45.981217",
          "status": "completed"
        },
        "tags": [],
        "id": "OjB71hzdSnPP"
      },
      "source": [
        "train_df['lagtime']=train_df['lagtime']/(1000*3600)\n",
        "train_df.lagtime=train_df.lagtime.astype('float32')"
      ],
      "execution_count": null,
      "outputs": []
    },
    {
      "cell_type": "code",
      "metadata": {
        "execution": {
          "iopub.execute_input": "2021-01-03T22:29:47.236064Z",
          "iopub.status.busy": "2021-01-03T22:29:47.235222Z",
          "iopub.status.idle": "2021-01-03T22:29:58.655441Z",
          "shell.execute_reply": "2021-01-03T22:29:58.654692Z"
        },
        "papermill": {
          "duration": 11.560608,
          "end_time": "2021-01-03T22:29:58.655564",
          "exception": false,
          "start_time": "2021-01-03T22:29:47.094956",
          "status": "completed"
        },
        "tags": [],
        "id": "wLXxN8zMSnPQ"
      },
      "source": [
        "\n",
        "train_df['lagtime2'] = train_df.groupby('user_id')['timestamp'].shift(2)\n",
        "\n",
        "max_timestamp_u3 = train_df[['user_id','lagtime2']].groupby(['user_id']).agg(['max']).reset_index()\n",
        "max_timestamp_u3.columns = ['user_id', 'max_time_stamp3']\n",
        "max_timestamp_u3.user_id=max_timestamp_u3.user_id.astype('int32')\n",
        "\n",
        "train_df['lagtime2']=train_df['timestamp']-train_df['lagtime2']\n",
        "lagtime_mean2=train_df['lagtime2'].mean()\n",
        "train_df['lagtime2'].fillna(lagtime_mean2, inplace=True)\n"
      ],
      "execution_count": null,
      "outputs": []
    },
    {
      "cell_type": "code",
      "metadata": {
        "execution": {
          "iopub.execute_input": "2021-01-03T22:29:58.823095Z",
          "iopub.status.busy": "2021-01-03T22:29:58.821805Z",
          "iopub.status.idle": "2021-01-03T22:29:59.749008Z",
          "shell.execute_reply": "2021-01-03T22:29:59.748325Z"
        },
        "papermill": {
          "duration": 1.017931,
          "end_time": "2021-01-03T22:29:59.749148",
          "exception": false,
          "start_time": "2021-01-03T22:29:58.731217",
          "status": "completed"
        },
        "tags": [],
        "id": "Wu8EhHcSSnPQ"
      },
      "source": [
        "train_df['lagtime2']=train_df['lagtime2']/(1000*3600)\n",
        "train_df.lagtime2=train_df.lagtime2.astype('float32')"
      ],
      "execution_count": null,
      "outputs": []
    },
    {
      "cell_type": "code",
      "metadata": {
        "execution": {
          "iopub.execute_input": "2021-01-03T22:29:59.909238Z",
          "iopub.status.busy": "2021-01-03T22:29:59.908425Z",
          "iopub.status.idle": "2021-01-03T22:30:07.313302Z",
          "shell.execute_reply": "2021-01-03T22:30:07.312668Z"
        },
        "papermill": {
          "duration": 7.488703,
          "end_time": "2021-01-03T22:30:07.313447",
          "exception": false,
          "start_time": "2021-01-03T22:29:59.824744",
          "status": "completed"
        },
        "tags": [],
        "id": "NvOfwxY-SnPQ"
      },
      "source": [
        "\n",
        "train_df['lagtime3'] = train_df.groupby('user_id')['timestamp'].shift(3)\n",
        "\n",
        "train_df['lagtime3']=train_df['timestamp']-train_df['lagtime3']\n",
        "lagtime_mean3=train_df['lagtime3'].mean()\n",
        "train_df['lagtime3'].fillna(lagtime_mean3, inplace=True)\n",
        "train_df['lagtime3']=train_df['lagtime3']/(1000*3600)\n",
        "train_df.lagtime3=train_df.lagtime3.astype('float32')"
      ],
      "execution_count": null,
      "outputs": []
    },
    {
      "cell_type": "code",
      "metadata": {
        "execution": {
          "iopub.execute_input": "2021-01-03T22:30:07.473102Z",
          "iopub.status.busy": "2021-01-03T22:30:07.471710Z",
          "iopub.status.idle": "2021-01-03T22:30:08.570548Z",
          "shell.execute_reply": "2021-01-03T22:30:08.569872Z"
        },
        "papermill": {
          "duration": 1.18136,
          "end_time": "2021-01-03T22:30:08.570700",
          "exception": false,
          "start_time": "2021-01-03T22:30:07.389340",
          "status": "completed"
        },
        "tags": [],
        "id": "3tv9oW5SSnPQ"
      },
      "source": [
        "train_df['timestamp']=train_df['timestamp']/(1000*3600)\n",
        "train_df.timestamp=train_df.timestamp.astype('float16')"
      ],
      "execution_count": null,
      "outputs": []
    },
    {
      "cell_type": "code",
      "metadata": {
        "execution": {
          "iopub.execute_input": "2021-01-03T22:30:08.733861Z",
          "iopub.status.busy": "2021-01-03T22:30:08.733015Z",
          "iopub.status.idle": "2021-01-03T22:30:17.884692Z",
          "shell.execute_reply": "2021-01-03T22:30:17.883989Z"
        },
        "papermill": {
          "duration": 9.236365,
          "end_time": "2021-01-03T22:30:17.884827",
          "exception": false,
          "start_time": "2021-01-03T22:30:08.648462",
          "status": "completed"
        },
        "tags": [],
        "id": "cp2XYMPQSnPQ"
      },
      "source": [
        "user_prior_question_elapsed_time = train_df[['user_id','prior_question_elapsed_time']].groupby(['user_id']).tail(1)\n",
        "user_prior_question_elapsed_time.columns = ['user_id', 'prior_question_elapsed_time']"
      ],
      "execution_count": null,
      "outputs": []
    },
    {
      "cell_type": "code",
      "metadata": {
        "execution": {
          "iopub.execute_input": "2021-01-03T22:30:18.046103Z",
          "iopub.status.busy": "2021-01-03T22:30:18.045266Z",
          "iopub.status.idle": "2021-01-03T22:30:23.392515Z",
          "shell.execute_reply": "2021-01-03T22:30:23.393121Z"
        },
        "papermill": {
          "duration": 5.43149,
          "end_time": "2021-01-03T22:30:23.393303",
          "exception": false,
          "start_time": "2021-01-03T22:30:17.961813",
          "status": "completed"
        },
        "tags": [],
        "id": "sdMK6ANMSnPQ"
      },
      "source": [
        "\n",
        "train_df['delta_prior_question_elapsed_time'] = train_df.groupby('user_id')['prior_question_elapsed_time'].shift()\n",
        "train_df['delta_prior_question_elapsed_time']=train_df['prior_question_elapsed_time']-train_df['delta_prior_question_elapsed_time']"
      ],
      "execution_count": null,
      "outputs": []
    },
    {
      "cell_type": "code",
      "metadata": {
        "execution": {
          "iopub.execute_input": "2021-01-03T22:30:23.555019Z",
          "iopub.status.busy": "2021-01-03T22:30:23.554208Z",
          "iopub.status.idle": "2021-01-03T22:30:24.203941Z",
          "shell.execute_reply": "2021-01-03T22:30:24.203298Z"
        },
        "papermill": {
          "duration": 0.733929,
          "end_time": "2021-01-03T22:30:24.204077",
          "exception": false,
          "start_time": "2021-01-03T22:30:23.470148",
          "status": "completed"
        },
        "tags": [],
        "id": "E0xy4y0mSnPR"
      },
      "source": [
        "delta_prior_question_elapsed_time_mean=train_df['delta_prior_question_elapsed_time'].mean()\n",
        "train_df['delta_prior_question_elapsed_time'].fillna(delta_prior_question_elapsed_time_mean, inplace=True)\n",
        "train_df.delta_prior_question_elapsed_time=train_df.delta_prior_question_elapsed_time.astype('int32')"
      ],
      "execution_count": null,
      "outputs": []
    },
    {
      "cell_type": "code",
      "metadata": {
        "execution": {
          "iopub.execute_input": "2021-01-03T22:30:24.371041Z",
          "iopub.status.busy": "2021-01-03T22:30:24.370243Z",
          "iopub.status.idle": "2021-01-03T22:30:56.524709Z",
          "shell.execute_reply": "2021-01-03T22:30:56.525288Z"
        },
        "papermill": {
          "duration": 32.244487,
          "end_time": "2021-01-03T22:30:56.525538",
          "exception": false,
          "start_time": "2021-01-03T22:30:24.281051",
          "status": "completed"
        },
        "tags": [],
        "id": "9x6BSFPqSnPR"
      },
      "source": [
        "\n",
        "train_df['lag'] = train_df.groupby('user_id')[target].shift()\n",
        "\n",
        "cum = train_df.groupby('user_id')['lag'].agg(['cumsum', 'cumcount'])\n",
        "user_agg = train_df.groupby('user_id')['lag'].agg(['sum', 'count']).astype('int16')\n",
        "cum['cumsum'].fillna(0, inplace=True)\n",
        "\n",
        "train_df['user_correctness'] = cum['cumsum'] / cum['cumcount']\n",
        "train_df['user_correct_count'] = cum['cumsum']\n",
        "train_df['user_uncorrect_count'] = cum['cumcount']-cum['cumsum']\n",
        "train_df.drop(columns=['lag'], inplace=True)\n",
        "train_df['user_correctness'].fillna(0.67, inplace=True)\n",
        "train_df.user_correctness=train_df.user_correctness.astype('float16')\n",
        "train_df.user_correct_count=train_df.user_correct_count.astype('int16')\n",
        "train_df.user_uncorrect_count=train_df.user_uncorrect_count.astype('int16')\n"
      ],
      "execution_count": null,
      "outputs": []
    },
    {
      "cell_type": "code",
      "metadata": {
        "execution": {
          "iopub.execute_input": "2021-01-03T22:30:56.781189Z",
          "iopub.status.busy": "2021-01-03T22:30:56.780121Z",
          "iopub.status.idle": "2021-01-03T22:30:56.784377Z",
          "shell.execute_reply": "2021-01-03T22:30:56.783668Z"
        },
        "papermill": {
          "duration": 0.181308,
          "end_time": "2021-01-03T22:30:56.784514",
          "exception": false,
          "start_time": "2021-01-03T22:30:56.603206",
          "status": "completed"
        },
        "tags": [],
        "id": "GBcSiXMPSnPR",
        "outputId": "c12b833d-78b6-4e2c-8050-4b369f3b7cf8"
      },
      "source": [
        "del cum\n",
        "gc.collect()"
      ],
      "execution_count": null,
      "outputs": [
        {
          "output_type": "execute_result",
          "data": {
            "text/plain": [
              "20"
            ]
          },
          "metadata": {
            "tags": []
          },
          "execution_count": 40
        }
      ]
    },
    {
      "cell_type": "code",
      "metadata": {
        "execution": {
          "iopub.execute_input": "2021-01-03T22:30:56.948346Z",
          "iopub.status.busy": "2021-01-03T22:30:56.946891Z",
          "iopub.status.idle": "2021-01-03T22:31:01.323515Z",
          "shell.execute_reply": "2021-01-03T22:31:01.322752Z"
        },
        "papermill": {
          "duration": 4.461276,
          "end_time": "2021-01-03T22:31:01.323666",
          "exception": false,
          "start_time": "2021-01-03T22:30:56.862390",
          "status": "completed"
        },
        "tags": [],
        "id": "Q8fOUEUBSnPR"
      },
      "source": [
        "train_df.prior_question_had_explanation=train_df.prior_question_had_explanation.astype('int8')\n",
        "explanation_agg = train_df.groupby('user_id')['prior_question_had_explanation'].agg(['sum', 'count'])\n",
        "explanation_agg=explanation_agg.astype('int16')"
      ],
      "execution_count": null,
      "outputs": []
    },
    {
      "cell_type": "code",
      "metadata": {
        "execution": {
          "iopub.execute_input": "2021-01-03T22:31:01.489368Z",
          "iopub.status.busy": "2021-01-03T22:31:01.488518Z",
          "iopub.status.idle": "2021-01-03T22:31:14.624111Z",
          "shell.execute_reply": "2021-01-03T22:31:14.623251Z"
        },
        "papermill": {
          "duration": 13.222364,
          "end_time": "2021-01-03T22:31:14.624258",
          "exception": false,
          "start_time": "2021-01-03T22:31:01.401894",
          "status": "completed"
        },
        "tags": [],
        "id": "_5dgU2QISnPS"
      },
      "source": [
        "cum = train_df.groupby('user_id')['prior_question_had_explanation'].agg(['cumsum', 'cumcount'])\n",
        "cum['cumcount']=cum['cumcount']+1\n",
        "train_df['explanation_mean'] = cum['cumsum'] / cum['cumcount']\n",
        "train_df['explanation_true_count'] = cum['cumsum'] \n",
        "train_df['explanation_false_count'] =  cum['cumcount']-cum['cumsum']\n",
        "\n",
        "train_df.explanation_mean=train_df.explanation_mean.astype('float16')\n",
        "train_df.explanation_true_count=train_df.explanation_true_count.astype('int16')\n",
        "train_df.explanation_false_count=train_df.explanation_false_count.astype('int16')"
      ],
      "execution_count": null,
      "outputs": []
    },
    {
      "cell_type": "code",
      "metadata": {
        "execution": {
          "iopub.execute_input": "2021-01-03T22:31:14.871968Z",
          "iopub.status.busy": "2021-01-03T22:31:14.870923Z",
          "iopub.status.idle": "2021-01-03T22:31:14.875735Z",
          "shell.execute_reply": "2021-01-03T22:31:14.874991Z"
        },
        "papermill": {
          "duration": 0.173449,
          "end_time": "2021-01-03T22:31:14.875864",
          "exception": false,
          "start_time": "2021-01-03T22:31:14.702415",
          "status": "completed"
        },
        "tags": [],
        "id": "mSn0zC6XSnPS",
        "outputId": "55fb8a51-d78e-4fdd-c8b5-e665d16b9aa1"
      },
      "source": [
        "del cum\n",
        "gc.collect()"
      ],
      "execution_count": null,
      "outputs": [
        {
          "output_type": "execute_result",
          "data": {
            "text/plain": [
              "73"
            ]
          },
          "metadata": {
            "tags": []
          },
          "execution_count": 43
        }
      ]
    },
    {
      "cell_type": "code",
      "metadata": {
        "execution": {
          "iopub.execute_input": "2021-01-03T22:31:15.041960Z",
          "iopub.status.busy": "2021-01-03T22:31:15.041054Z",
          "iopub.status.idle": "2021-01-03T22:31:29.300308Z",
          "shell.execute_reply": "2021-01-03T22:31:29.299502Z"
        },
        "papermill": {
          "duration": 14.345904,
          "end_time": "2021-01-03T22:31:29.300442",
          "exception": false,
          "start_time": "2021-01-03T22:31:14.954538",
          "status": "completed"
        },
        "tags": [],
        "id": "p8hIh8BRSnPS"
      },
      "source": [
        "content_agg = train_df.groupby('content_id')[target].agg(['sum', 'count','var'])\n",
        "task_container_agg = train_df.groupby('task_container_id')[target].agg(['sum', 'count','var'])\n",
        "content_agg=content_agg.astype('float32')\n",
        "task_container_agg=task_container_agg.astype('float32')"
      ],
      "execution_count": null,
      "outputs": []
    },
    {
      "cell_type": "code",
      "metadata": {
        "execution": {
          "iopub.execute_input": "2021-01-03T22:31:29.467562Z",
          "iopub.status.busy": "2021-01-03T22:31:29.466813Z",
          "iopub.status.idle": "2021-01-03T22:31:35.551249Z",
          "shell.execute_reply": "2021-01-03T22:31:35.550598Z"
        },
        "papermill": {
          "duration": 6.17195,
          "end_time": "2021-01-03T22:31:35.551386",
          "exception": false,
          "start_time": "2021-01-03T22:31:29.379436",
          "status": "completed"
        },
        "tags": [],
        "id": "NL8aZ_24SnPS"
      },
      "source": [
        "#\n",
        "train_df['task_container_uncor_count'] = train_df['task_container_id'].map(task_container_agg['count']-task_container_agg['sum']).astype('int32')\n",
        "train_df['task_container_cor_count'] = train_df['task_container_id'].map(task_container_agg['sum']).astype('int32')\n",
        "train_df['task_container_std'] = train_df['task_container_id'].map(task_container_agg['var']).astype('float16')\n",
        "train_df['task_container_correctness'] = train_df['task_container_id'].map(task_container_agg['sum'] / task_container_agg['count'])\n",
        "train_df.task_container_correctness=train_df.task_container_correctness.astype('float16')"
      ],
      "execution_count": null,
      "outputs": []
    },
    {
      "cell_type": "code",
      "metadata": {
        "execution": {
          "iopub.execute_input": "2021-01-03T22:31:35.716780Z",
          "iopub.status.busy": "2021-01-03T22:31:35.716003Z",
          "iopub.status.idle": "2021-01-03T22:31:41.238365Z",
          "shell.execute_reply": "2021-01-03T22:31:41.237520Z"
        },
        "papermill": {
          "duration": 5.607763,
          "end_time": "2021-01-03T22:31:41.238504",
          "exception": false,
          "start_time": "2021-01-03T22:31:35.630741",
          "status": "completed"
        },
        "tags": [],
        "id": "k5pv_8NWSnPT"
      },
      "source": [
        "content_elapsed_time_agg=train_df.groupby('content_id')['prior_question_elapsed_time'].agg(['mean'])\n",
        "content_had_explanation_agg=train_df.groupby('content_id')['prior_question_had_explanation'].agg(['mean'])"
      ],
      "execution_count": null,
      "outputs": []
    },
    {
      "cell_type": "code",
      "metadata": {
        "execution": {
          "iopub.execute_input": "2021-01-03T22:31:41.408901Z",
          "iopub.status.busy": "2021-01-03T22:31:41.407969Z",
          "iopub.status.idle": "2021-01-03T22:31:41.412792Z",
          "shell.execute_reply": "2021-01-03T22:31:41.412128Z"
        },
        "papermill": {
          "duration": 0.093334,
          "end_time": "2021-01-03T22:31:41.412926",
          "exception": false,
          "start_time": "2021-01-03T22:31:41.319592",
          "status": "completed"
        },
        "tags": [],
        "id": "rMk2HEyqSnPT",
        "outputId": "6a07a9b0-2965-4f0f-a610-aad831779543"
      },
      "source": [
        "train_df.dtypes"
      ],
      "execution_count": null,
      "outputs": [
        {
          "output_type": "execute_result",
          "data": {
            "text/plain": [
              "timestamp                            float16\n",
              "user_id                                int32\n",
              "content_id                             int16\n",
              "content_type_id                         int8\n",
              "task_container_id                      int16\n",
              "answered_correctly                      int8\n",
              "prior_question_elapsed_time          float32\n",
              "prior_question_had_explanation          int8\n",
              "user_interaction_count                 int16\n",
              "user_interaction_timestamp_mean      float32\n",
              "user_lecture_sum                       int16\n",
              "user_lecture_lv                      float16\n",
              "attempt_no                              int8\n",
              "lagtime                              float32\n",
              "lagtime2                             float32\n",
              "lagtime3                             float32\n",
              "delta_prior_question_elapsed_time      int32\n",
              "user_correctness                     float16\n",
              "user_correct_count                     int16\n",
              "user_uncorrect_count                   int16\n",
              "explanation_mean                     float16\n",
              "explanation_true_count                 int16\n",
              "explanation_false_count                int16\n",
              "task_container_uncor_count             int32\n",
              "task_container_cor_count               int32\n",
              "task_container_std                   float16\n",
              "task_container_correctness           float16\n",
              "dtype: object"
            ]
          },
          "metadata": {
            "tags": []
          },
          "execution_count": 47
        }
      ]
    },
    {
      "cell_type": "code",
      "metadata": {
        "execution": {
          "iopub.execute_input": "2021-01-03T22:31:41.586928Z",
          "iopub.status.busy": "2021-01-03T22:31:41.584435Z",
          "iopub.status.idle": "2021-01-03T22:31:41.625534Z",
          "shell.execute_reply": "2021-01-03T22:31:41.624888Z"
        },
        "papermill": {
          "duration": 0.131521,
          "end_time": "2021-01-03T22:31:41.625681",
          "exception": false,
          "start_time": "2021-01-03T22:31:41.494160",
          "status": "completed"
        },
        "tags": [],
        "id": "9tMND0R3SnPT",
        "outputId": "0ea97ca5-d273-43bb-9c36-83ede5b21b0f"
      },
      "source": [
        "train_df.head()"
      ],
      "execution_count": null,
      "outputs": [
        {
          "output_type": "execute_result",
          "data": {
            "text/html": [
              "<div>\n",
              "<style scoped>\n",
              "    .dataframe tbody tr th:only-of-type {\n",
              "        vertical-align: middle;\n",
              "    }\n",
              "\n",
              "    .dataframe tbody tr th {\n",
              "        vertical-align: top;\n",
              "    }\n",
              "\n",
              "    .dataframe thead th {\n",
              "        text-align: right;\n",
              "    }\n",
              "</style>\n",
              "<table border=\"1\" class=\"dataframe\">\n",
              "  <thead>\n",
              "    <tr style=\"text-align: right;\">\n",
              "      <th></th>\n",
              "      <th>timestamp</th>\n",
              "      <th>user_id</th>\n",
              "      <th>content_id</th>\n",
              "      <th>content_type_id</th>\n",
              "      <th>task_container_id</th>\n",
              "      <th>answered_correctly</th>\n",
              "      <th>prior_question_elapsed_time</th>\n",
              "      <th>prior_question_had_explanation</th>\n",
              "      <th>user_interaction_count</th>\n",
              "      <th>user_interaction_timestamp_mean</th>\n",
              "      <th>...</th>\n",
              "      <th>user_correctness</th>\n",
              "      <th>user_correct_count</th>\n",
              "      <th>user_uncorrect_count</th>\n",
              "      <th>explanation_mean</th>\n",
              "      <th>explanation_true_count</th>\n",
              "      <th>explanation_false_count</th>\n",
              "      <th>task_container_uncor_count</th>\n",
              "      <th>task_container_cor_count</th>\n",
              "      <th>task_container_std</th>\n",
              "      <th>task_container_correctness</th>\n",
              "    </tr>\n",
              "  </thead>\n",
              "  <tbody>\n",
              "    <tr>\n",
              "      <th>0</th>\n",
              "      <td>0.000000</td>\n",
              "      <td>115</td>\n",
              "      <td>5692</td>\n",
              "      <td>0</td>\n",
              "      <td>1</td>\n",
              "      <td>1</td>\n",
              "      <td>13005.081055</td>\n",
              "      <td>0</td>\n",
              "      <td>1</td>\n",
              "      <td>0.000000</td>\n",
              "      <td>...</td>\n",
              "      <td>0.669922</td>\n",
              "      <td>0</td>\n",
              "      <td>0</td>\n",
              "      <td>0.0</td>\n",
              "      <td>0</td>\n",
              "      <td>1</td>\n",
              "      <td>187175</td>\n",
              "      <td>208704</td>\n",
              "      <td>0.249268</td>\n",
              "      <td>0.527344</td>\n",
              "    </tr>\n",
              "    <tr>\n",
              "      <th>1</th>\n",
              "      <td>0.015823</td>\n",
              "      <td>115</td>\n",
              "      <td>5716</td>\n",
              "      <td>0</td>\n",
              "      <td>2</td>\n",
              "      <td>1</td>\n",
              "      <td>37000.000000</td>\n",
              "      <td>0</td>\n",
              "      <td>2</td>\n",
              "      <td>0.007909</td>\n",
              "      <td>...</td>\n",
              "      <td>1.000000</td>\n",
              "      <td>1</td>\n",
              "      <td>0</td>\n",
              "      <td>0.0</td>\n",
              "      <td>0</td>\n",
              "      <td>2</td>\n",
              "      <td>223198</td>\n",
              "      <td>172342</td>\n",
              "      <td>0.245850</td>\n",
              "      <td>0.435791</td>\n",
              "    </tr>\n",
              "    <tr>\n",
              "      <th>2</th>\n",
              "      <td>0.032867</td>\n",
              "      <td>115</td>\n",
              "      <td>128</td>\n",
              "      <td>0</td>\n",
              "      <td>0</td>\n",
              "      <td>1</td>\n",
              "      <td>55000.000000</td>\n",
              "      <td>0</td>\n",
              "      <td>3</td>\n",
              "      <td>0.010960</td>\n",
              "      <td>...</td>\n",
              "      <td>1.000000</td>\n",
              "      <td>2</td>\n",
              "      <td>0</td>\n",
              "      <td>0.0</td>\n",
              "      <td>0</td>\n",
              "      <td>3</td>\n",
              "      <td>126682</td>\n",
              "      <td>269233</td>\n",
              "      <td>0.217651</td>\n",
              "      <td>0.680176</td>\n",
              "    </tr>\n",
              "    <tr>\n",
              "      <th>3</th>\n",
              "      <td>0.036438</td>\n",
              "      <td>115</td>\n",
              "      <td>7860</td>\n",
              "      <td>0</td>\n",
              "      <td>3</td>\n",
              "      <td>1</td>\n",
              "      <td>19000.000000</td>\n",
              "      <td>0</td>\n",
              "      <td>4</td>\n",
              "      <td>0.009109</td>\n",
              "      <td>...</td>\n",
              "      <td>1.000000</td>\n",
              "      <td>3</td>\n",
              "      <td>0</td>\n",
              "      <td>0.0</td>\n",
              "      <td>0</td>\n",
              "      <td>4</td>\n",
              "      <td>180574</td>\n",
              "      <td>214721</td>\n",
              "      <td>0.248169</td>\n",
              "      <td>0.542969</td>\n",
              "    </tr>\n",
              "    <tr>\n",
              "      <th>4</th>\n",
              "      <td>0.038330</td>\n",
              "      <td>115</td>\n",
              "      <td>7922</td>\n",
              "      <td>0</td>\n",
              "      <td>4</td>\n",
              "      <td>1</td>\n",
              "      <td>11000.000000</td>\n",
              "      <td>0</td>\n",
              "      <td>5</td>\n",
              "      <td>0.007665</td>\n",
              "      <td>...</td>\n",
              "      <td>1.000000</td>\n",
              "      <td>4</td>\n",
              "      <td>0</td>\n",
              "      <td>0.0</td>\n",
              "      <td>0</td>\n",
              "      <td>5</td>\n",
              "      <td>361957</td>\n",
              "      <td>330079</td>\n",
              "      <td>0.249512</td>\n",
              "      <td>0.477051</td>\n",
              "    </tr>\n",
              "  </tbody>\n",
              "</table>\n",
              "<p>5 rows × 27 columns</p>\n",
              "</div>"
            ],
            "text/plain": [
              "   timestamp  user_id  content_id  content_type_id  task_container_id  \\\n",
              "0   0.000000      115        5692                0                  1   \n",
              "1   0.015823      115        5716                0                  2   \n",
              "2   0.032867      115         128                0                  0   \n",
              "3   0.036438      115        7860                0                  3   \n",
              "4   0.038330      115        7922                0                  4   \n",
              "\n",
              "   answered_correctly  prior_question_elapsed_time  \\\n",
              "0                   1                 13005.081055   \n",
              "1                   1                 37000.000000   \n",
              "2                   1                 55000.000000   \n",
              "3                   1                 19000.000000   \n",
              "4                   1                 11000.000000   \n",
              "\n",
              "   prior_question_had_explanation  user_interaction_count  \\\n",
              "0                               0                       1   \n",
              "1                               0                       2   \n",
              "2                               0                       3   \n",
              "3                               0                       4   \n",
              "4                               0                       5   \n",
              "\n",
              "   user_interaction_timestamp_mean  ...  user_correctness  user_correct_count  \\\n",
              "0                         0.000000  ...          0.669922                   0   \n",
              "1                         0.007909  ...          1.000000                   1   \n",
              "2                         0.010960  ...          1.000000                   2   \n",
              "3                         0.009109  ...          1.000000                   3   \n",
              "4                         0.007665  ...          1.000000                   4   \n",
              "\n",
              "   user_uncorrect_count  explanation_mean  explanation_true_count  \\\n",
              "0                     0               0.0                       0   \n",
              "1                     0               0.0                       0   \n",
              "2                     0               0.0                       0   \n",
              "3                     0               0.0                       0   \n",
              "4                     0               0.0                       0   \n",
              "\n",
              "   explanation_false_count  task_container_uncor_count  \\\n",
              "0                        1                      187175   \n",
              "1                        2                      223198   \n",
              "2                        3                      126682   \n",
              "3                        4                      180574   \n",
              "4                        5                      361957   \n",
              "\n",
              "   task_container_cor_count  task_container_std  task_container_correctness  \n",
              "0                    208704            0.249268                    0.527344  \n",
              "1                    172342            0.245850                    0.435791  \n",
              "2                    269233            0.217651                    0.680176  \n",
              "3                    214721            0.248169                    0.542969  \n",
              "4                    330079            0.249512                    0.477051  \n",
              "\n",
              "[5 rows x 27 columns]"
            ]
          },
          "metadata": {
            "tags": []
          },
          "execution_count": 48
        }
      ]
    },
    {
      "cell_type": "code",
      "metadata": {
        "execution": {
          "iopub.execute_input": "2021-01-03T22:31:41.795243Z",
          "iopub.status.busy": "2021-01-03T22:31:41.794240Z",
          "iopub.status.idle": "2021-01-03T22:31:41.798265Z",
          "shell.execute_reply": "2021-01-03T22:31:41.799069Z"
        },
        "papermill": {
          "duration": 0.092515,
          "end_time": "2021-01-03T22:31:41.799254",
          "exception": false,
          "start_time": "2021-01-03T22:31:41.706739",
          "status": "completed"
        },
        "tags": [],
        "id": "uM4JRkGZSnPT",
        "outputId": "424555b4-bc54-457b-ce04-9c6ba8afc633"
      },
      "source": [
        "print('start questions data...')"
      ],
      "execution_count": null,
      "outputs": [
        {
          "output_type": "stream",
          "text": [
            "start questions data...\n"
          ],
          "name": "stdout"
        }
      ]
    },
    {
      "cell_type": "code",
      "metadata": {
        "execution": {
          "iopub.execute_input": "2021-01-03T22:31:41.987286Z",
          "iopub.status.busy": "2021-01-03T22:31:41.986146Z",
          "iopub.status.idle": "2021-01-03T22:31:42.010356Z",
          "shell.execute_reply": "2021-01-03T22:31:42.009428Z"
        },
        "papermill": {
          "duration": 0.127606,
          "end_time": "2021-01-03T22:31:42.010507",
          "exception": false,
          "start_time": "2021-01-03T22:31:41.882901",
          "status": "completed"
        },
        "tags": [],
        "id": "E24nSgmdSnPT"
      },
      "source": [
        "questions_df = pd.read_csv(\n",
        "    '../input/riiid-test-answer-prediction/questions.csv', \n",
        "    usecols=[0, 1,3,4],\n",
        "    dtype={'question_id': 'int16','bundle_id': 'int16', 'part': 'int8','tags': 'str'}\n",
        ")"
      ],
      "execution_count": null,
      "outputs": []
    },
    {
      "cell_type": "code",
      "metadata": {
        "execution": {
          "iopub.execute_input": "2021-01-03T22:31:42.184230Z",
          "iopub.status.busy": "2021-01-03T22:31:42.183287Z",
          "iopub.status.idle": "2021-01-03T22:31:42.195548Z",
          "shell.execute_reply": "2021-01-03T22:31:42.194866Z"
        },
        "papermill": {
          "duration": 0.101123,
          "end_time": "2021-01-03T22:31:42.195709",
          "exception": false,
          "start_time": "2021-01-03T22:31:42.094586",
          "status": "completed"
        },
        "tags": [],
        "id": "kFloRFoLSnPU"
      },
      "source": [
        "bundle_agg = questions_df.groupby('bundle_id')['question_id'].agg(['count'])"
      ],
      "execution_count": null,
      "outputs": []
    },
    {
      "cell_type": "code",
      "metadata": {
        "execution": {
          "iopub.execute_input": "2021-01-03T22:31:42.366367Z",
          "iopub.status.busy": "2021-01-03T22:31:42.365474Z",
          "iopub.status.idle": "2021-01-03T22:31:42.370692Z",
          "shell.execute_reply": "2021-01-03T22:31:42.371288Z"
        },
        "papermill": {
          "duration": 0.094323,
          "end_time": "2021-01-03T22:31:42.371470",
          "exception": false,
          "start_time": "2021-01-03T22:31:42.277147",
          "status": "completed"
        },
        "tags": [],
        "id": "t97Cydg3SnPU"
      },
      "source": [
        "questions_df['content_sub_bundle'] = questions_df['bundle_id'].map(bundle_agg['count']).astype('int8')"
      ],
      "execution_count": null,
      "outputs": []
    },
    {
      "cell_type": "code",
      "metadata": {
        "execution": {
          "iopub.execute_input": "2021-01-03T22:31:42.550270Z",
          "iopub.status.busy": "2021-01-03T22:31:42.549309Z",
          "iopub.status.idle": "2021-01-03T22:31:42.551543Z",
          "shell.execute_reply": "2021-01-03T22:31:42.552257Z"
        },
        "papermill": {
          "duration": 0.095037,
          "end_time": "2021-01-03T22:31:42.552416",
          "exception": false,
          "start_time": "2021-01-03T22:31:42.457379",
          "status": "completed"
        },
        "tags": [],
        "id": "YbrsFVUrSnPU"
      },
      "source": [
        "questions_df['tags'].fillna('188', inplace=True)"
      ],
      "execution_count": null,
      "outputs": []
    },
    {
      "cell_type": "code",
      "metadata": {
        "execution": {
          "iopub.execute_input": "2021-01-03T22:31:42.726153Z",
          "iopub.status.busy": "2021-01-03T22:31:42.725020Z",
          "iopub.status.idle": "2021-01-03T22:31:42.728675Z",
          "shell.execute_reply": "2021-01-03T22:31:42.727924Z"
        },
        "papermill": {
          "duration": 0.093648,
          "end_time": "2021-01-03T22:31:42.728803",
          "exception": false,
          "start_time": "2021-01-03T22:31:42.635155",
          "status": "completed"
        },
        "tags": [],
        "id": "6esuffcXSnPU"
      },
      "source": [
        "def gettags(tags,num):\n",
        "    tags_splits=tags.split(\" \")\n",
        "    result='' \n",
        "    for t in tags_splits:\n",
        "        x=int(t)\n",
        "        if(x<32*(num+1) and x>=32*num):#num \n",
        "            result=result+' '+t\n",
        "    return result"
      ],
      "execution_count": null,
      "outputs": []
    },
    {
      "cell_type": "code",
      "metadata": {
        "execution": {
          "iopub.execute_input": "2021-01-03T22:31:42.908718Z",
          "iopub.status.busy": "2021-01-03T22:31:42.903573Z",
          "iopub.status.idle": "2021-01-03T22:31:43.234193Z",
          "shell.execute_reply": "2021-01-03T22:31:43.233466Z"
        },
        "papermill": {
          "duration": 0.423331,
          "end_time": "2021-01-03T22:31:43.234331",
          "exception": false,
          "start_time": "2021-01-03T22:31:42.811000",
          "status": "completed"
        },
        "tags": [],
        "id": "EPGdsaROSnPU"
      },
      "source": [
        "from sklearn.preprocessing import LabelEncoder\n",
        "for num in range(0,6):\n",
        "    questions_df[\"tags\"+str(num)] = questions_df[\"tags\"].apply(lambda row: gettags(row,num))\n",
        "    le = LabelEncoder()\n",
        "    le.fit(np.unique(questions_df['tags'+str(num)].values))\n",
        "    #questions_df[['tags'+str(num)]=\n",
        "    questions_df['tags'+str(num)]=questions_df[['tags'+str(num)]].apply(le.transform)"
      ],
      "execution_count": null,
      "outputs": []
    },
    {
      "cell_type": "code",
      "metadata": {
        "execution": {
          "iopub.execute_input": "2021-01-03T22:31:43.411360Z",
          "iopub.status.busy": "2021-01-03T22:31:43.410311Z",
          "iopub.status.idle": "2021-01-03T22:31:43.414309Z",
          "shell.execute_reply": "2021-01-03T22:31:43.414883Z"
        },
        "papermill": {
          "duration": 0.097832,
          "end_time": "2021-01-03T22:31:43.415058",
          "exception": false,
          "start_time": "2021-01-03T22:31:43.317226",
          "status": "completed"
        },
        "tags": [],
        "id": "g43mihzSSnPU"
      },
      "source": [
        "questions_df_dict = {   \n",
        "    'tags0': 'int8',\n",
        "    'tags1': 'int8',\n",
        "    'tags2': 'int8',\n",
        "    'tags3': 'int8',\n",
        "    'tags4': 'int8',\n",
        "    'tags5': 'int8',\n",
        "}\n",
        "questions_df = questions_df.astype(questions_df_dict)"
      ],
      "execution_count": null,
      "outputs": []
    },
    {
      "cell_type": "code",
      "metadata": {
        "execution": {
          "iopub.execute_input": "2021-01-03T22:31:43.588845Z",
          "iopub.status.busy": "2021-01-03T22:31:43.587795Z",
          "iopub.status.idle": "2021-01-03T22:31:43.591331Z",
          "shell.execute_reply": "2021-01-03T22:31:43.590698Z"
        },
        "papermill": {
          "duration": 0.092934,
          "end_time": "2021-01-03T22:31:43.591455",
          "exception": false,
          "start_time": "2021-01-03T22:31:43.498521",
          "status": "completed"
        },
        "tags": [],
        "id": "wk5KHIW5SnPU"
      },
      "source": [
        "questions_df.drop(columns=['tags'], inplace=True)"
      ],
      "execution_count": null,
      "outputs": []
    },
    {
      "cell_type": "code",
      "metadata": {
        "execution": {
          "iopub.execute_input": "2021-01-03T22:31:43.765089Z",
          "iopub.status.busy": "2021-01-03T22:31:43.764325Z",
          "iopub.status.idle": "2021-01-03T22:31:43.767765Z",
          "shell.execute_reply": "2021-01-03T22:31:43.766990Z"
        },
        "papermill": {
          "duration": 0.093996,
          "end_time": "2021-01-03T22:31:43.767911",
          "exception": false,
          "start_time": "2021-01-03T22:31:43.673915",
          "status": "completed"
        },
        "tags": [],
        "id": "lG1KuH1OSnPV"
      },
      "source": [
        "questions_df['part_bundle_id']=questions_df['part']*100000+questions_df['bundle_id']\n",
        "questions_df.part_bundle_id=questions_df.part_bundle_id.astype('int32')"
      ],
      "execution_count": null,
      "outputs": []
    },
    {
      "cell_type": "code",
      "metadata": {
        "execution": {
          "iopub.execute_input": "2021-01-03T22:31:43.943468Z",
          "iopub.status.busy": "2021-01-03T22:31:43.942707Z",
          "iopub.status.idle": "2021-01-03T22:31:43.946658Z",
          "shell.execute_reply": "2021-01-03T22:31:43.945902Z"
        },
        "papermill": {
          "duration": 0.095508,
          "end_time": "2021-01-03T22:31:43.946786",
          "exception": false,
          "start_time": "2021-01-03T22:31:43.851278",
          "status": "completed"
        },
        "tags": [],
        "id": "HX2fuBoVSnPV"
      },
      "source": [
        "questions_df.rename(columns={'question_id':'content_id'}, inplace=True)"
      ],
      "execution_count": null,
      "outputs": []
    },
    {
      "cell_type": "code",
      "metadata": {
        "execution": {
          "iopub.execute_input": "2021-01-03T22:31:44.123998Z",
          "iopub.status.busy": "2021-01-03T22:31:44.123074Z",
          "iopub.status.idle": "2021-01-03T22:31:44.145549Z",
          "shell.execute_reply": "2021-01-03T22:31:44.144857Z"
        },
        "papermill": {
          "duration": 0.11514,
          "end_time": "2021-01-03T22:31:44.145702",
          "exception": false,
          "start_time": "2021-01-03T22:31:44.030562",
          "status": "completed"
        },
        "tags": [],
        "id": "-7gXQ8UlSnPV"
      },
      "source": [
        "questions_df = pd.merge(questions_df, content_explation_agg, on='content_id', how='left',right_index=True)"
      ],
      "execution_count": null,
      "outputs": []
    },
    {
      "cell_type": "code",
      "metadata": {
        "execution": {
          "iopub.execute_input": "2021-01-03T22:31:44.318895Z",
          "iopub.status.busy": "2021-01-03T22:31:44.318074Z",
          "iopub.status.idle": "2021-01-03T22:31:44.321275Z",
          "shell.execute_reply": "2021-01-03T22:31:44.320645Z"
        },
        "papermill": {
          "duration": 0.091638,
          "end_time": "2021-01-03T22:31:44.321412",
          "exception": false,
          "start_time": "2021-01-03T22:31:44.229774",
          "status": "completed"
        },
        "tags": [],
        "id": "JbeENO8eSnPV"
      },
      "source": [
        "del content_explation_agg"
      ],
      "execution_count": null,
      "outputs": []
    },
    {
      "cell_type": "code",
      "metadata": {
        "execution": {
          "iopub.execute_input": "2021-01-03T22:31:44.508886Z",
          "iopub.status.busy": "2021-01-03T22:31:44.506432Z",
          "iopub.status.idle": "2021-01-03T22:31:44.524527Z",
          "shell.execute_reply": "2021-01-03T22:31:44.525462Z"
        },
        "papermill": {
          "duration": 0.121303,
          "end_time": "2021-01-03T22:31:44.525790",
          "exception": false,
          "start_time": "2021-01-03T22:31:44.404487",
          "status": "completed"
        },
        "tags": [],
        "id": "9V5a2dHJSnPV"
      },
      "source": [
        "questions_df['content_correctness'] = questions_df['content_id'].map(content_agg['sum'] / content_agg['count'])\n",
        "questions_df.content_correctness=questions_df.content_correctness.astype('float16')\n",
        "questions_df['content_correctness_std'] = questions_df['content_id'].map(content_agg['var'])\n",
        "questions_df.content_correctness_std=questions_df.content_correctness_std.astype('float16')\n",
        "questions_df['content_uncorrect_count'] = questions_df['content_id'].map(content_agg['count']-content_agg['sum']).astype('int32')\n",
        "questions_df['content_correct_count'] = questions_df['content_id'].map(content_agg['sum']).astype('int32')"
      ],
      "execution_count": null,
      "outputs": []
    },
    {
      "cell_type": "code",
      "metadata": {
        "execution": {
          "iopub.execute_input": "2021-01-03T22:31:44.720780Z",
          "iopub.status.busy": "2021-01-03T22:31:44.719989Z",
          "iopub.status.idle": "2021-01-03T22:31:44.728829Z",
          "shell.execute_reply": "2021-01-03T22:31:44.728033Z"
        },
        "papermill": {
          "duration": 0.102786,
          "end_time": "2021-01-03T22:31:44.728960",
          "exception": false,
          "start_time": "2021-01-03T22:31:44.626174",
          "status": "completed"
        },
        "tags": [],
        "id": "JamnSL_fSnPV"
      },
      "source": [
        "questions_df['content_elapsed_time_mean'] = questions_df['content_id'].map(content_elapsed_time_agg['mean'])\n",
        "questions_df.content_elapsed_time_mean=questions_df.content_elapsed_time_mean.astype('float16')\n",
        "questions_df['content_had_explanation_mean'] = questions_df['content_id'].map(content_had_explanation_agg['mean'])\n",
        "questions_df.content_had_explanation_mean=questions_df.content_had_explanation_mean.astype('float16')"
      ],
      "execution_count": null,
      "outputs": []
    },
    {
      "cell_type": "code",
      "metadata": {
        "execution": {
          "iopub.execute_input": "2021-01-03T22:31:44.986025Z",
          "iopub.status.busy": "2021-01-03T22:31:44.984961Z",
          "iopub.status.idle": "2021-01-03T22:31:44.990765Z",
          "shell.execute_reply": "2021-01-03T22:31:44.989956Z"
        },
        "papermill": {
          "duration": 0.177993,
          "end_time": "2021-01-03T22:31:44.990898",
          "exception": false,
          "start_time": "2021-01-03T22:31:44.812905",
          "status": "completed"
        },
        "tags": [],
        "id": "QOYjpPnPSnPV",
        "outputId": "5a377ab1-fd79-49f7-ac4f-3a0105a57628"
      },
      "source": [
        "del content_elapsed_time_agg\n",
        "del content_had_explanation_agg\n",
        "gc.collect()"
      ],
      "execution_count": null,
      "outputs": [
        {
          "output_type": "execute_result",
          "data": {
            "text/plain": [
              "193"
            ]
          },
          "metadata": {
            "tags": []
          },
          "execution_count": 64
        }
      ]
    },
    {
      "cell_type": "code",
      "metadata": {
        "execution": {
          "iopub.execute_input": "2021-01-03T22:31:45.172350Z",
          "iopub.status.busy": "2021-01-03T22:31:45.171164Z",
          "iopub.status.idle": "2021-01-03T22:31:45.183032Z",
          "shell.execute_reply": "2021-01-03T22:31:45.182279Z"
        },
        "papermill": {
          "duration": 0.107328,
          "end_time": "2021-01-03T22:31:45.183194",
          "exception": false,
          "start_time": "2021-01-03T22:31:45.075866",
          "status": "completed"
        },
        "tags": [],
        "id": "MSRQwwTySnPV"
      },
      "source": [
        "part_agg = questions_df.groupby('part')['content_correctness'].agg(['mean', 'var'])\n",
        "questions_df['part_correctness_mean'] = questions_df['part'].map(part_agg['mean'])\n",
        "questions_df['part_correctness_std'] = questions_df['part'].map(part_agg['var'])\n",
        "questions_df.part_correctness_mean=questions_df.part_correctness_mean.astype('float16')\n",
        "questions_df.part_correctness_std=questions_df.part_correctness_std.astype('float16')"
      ],
      "execution_count": null,
      "outputs": []
    },
    {
      "cell_type": "code",
      "metadata": {
        "execution": {
          "iopub.execute_input": "2021-01-03T22:31:45.371068Z",
          "iopub.status.busy": "2021-01-03T22:31:45.370191Z",
          "iopub.status.idle": "2021-01-03T22:31:45.386214Z",
          "shell.execute_reply": "2021-01-03T22:31:45.385422Z"
        },
        "papermill": {
          "duration": 0.109056,
          "end_time": "2021-01-03T22:31:45.386346",
          "exception": false,
          "start_time": "2021-01-03T22:31:45.277290",
          "status": "completed"
        },
        "tags": [],
        "id": "VxUMH7yaSnPW"
      },
      "source": [
        "part_agg = questions_df.groupby('part')['content_uncorrect_count'].agg(['sum'])\n",
        "questions_df['part_uncor_count'] = questions_df['part'].map(part_agg['sum']).astype('int32')\n",
        "part_agg = questions_df.groupby('part')['content_correct_count'].agg(['sum'])\n",
        "questions_df['part_cor_count'] = questions_df['part'].map(part_agg['sum']).astype('int32')"
      ],
      "execution_count": null,
      "outputs": []
    },
    {
      "cell_type": "code",
      "metadata": {
        "execution": {
          "iopub.execute_input": "2021-01-03T22:31:45.565358Z",
          "iopub.status.busy": "2021-01-03T22:31:45.564547Z",
          "iopub.status.idle": "2021-01-03T22:31:45.577340Z",
          "shell.execute_reply": "2021-01-03T22:31:45.576578Z"
        },
        "papermill": {
          "duration": 0.105386,
          "end_time": "2021-01-03T22:31:45.577473",
          "exception": false,
          "start_time": "2021-01-03T22:31:45.472087",
          "status": "completed"
        },
        "tags": [],
        "id": "A1PjkjupSnPW"
      },
      "source": [
        "bundle_agg = questions_df.groupby('bundle_id')['content_correctness'].agg(['mean'])\n",
        "questions_df['bundle_correctness_mean'] = questions_df['bundle_id'].map(bundle_agg['mean'])\n",
        "questions_df.bundle_correctness_mean=questions_df.bundle_correctness_mean.astype('float16')"
      ],
      "execution_count": null,
      "outputs": []
    },
    {
      "cell_type": "code",
      "metadata": {
        "execution": {
          "iopub.execute_input": "2021-01-03T22:31:45.757006Z",
          "iopub.status.busy": "2021-01-03T22:31:45.755920Z",
          "iopub.status.idle": "2021-01-03T22:31:45.760910Z",
          "shell.execute_reply": "2021-01-03T22:31:45.760284Z"
        },
        "papermill": {
          "duration": 0.098963,
          "end_time": "2021-01-03T22:31:45.761033",
          "exception": false,
          "start_time": "2021-01-03T22:31:45.662070",
          "status": "completed"
        },
        "tags": [],
        "id": "aCl5AIZISnPW",
        "outputId": "f25f47b3-0177-4aff-de40-150a2bc1ef6a"
      },
      "source": [
        "questions_df.dtypes"
      ],
      "execution_count": null,
      "outputs": [
        {
          "output_type": "execute_result",
          "data": {
            "text/plain": [
              "content_id                        int16\n",
              "bundle_id                         int16\n",
              "part                               int8\n",
              "content_sub_bundle                 int8\n",
              "tags0                              int8\n",
              "tags1                              int8\n",
              "tags2                              int8\n",
              "tags3                              int8\n",
              "tags4                              int8\n",
              "tags5                              int8\n",
              "part_bundle_id                    int32\n",
              "content_explation_false_mean    float16\n",
              "content_explation_true_mean     float16\n",
              "content_correctness             float16\n",
              "content_correctness_std         float16\n",
              "content_uncorrect_count           int32\n",
              "content_correct_count             int32\n",
              "content_elapsed_time_mean       float16\n",
              "content_had_explanation_mean    float16\n",
              "part_correctness_mean           float16\n",
              "part_correctness_std            float16\n",
              "part_uncor_count                  int32\n",
              "part_cor_count                    int32\n",
              "bundle_correctness_mean         float16\n",
              "dtype: object"
            ]
          },
          "metadata": {
            "tags": []
          },
          "execution_count": 68
        }
      ]
    },
    {
      "cell_type": "code",
      "metadata": {
        "execution": {
          "iopub.execute_input": "2021-01-03T22:31:46.020797Z",
          "iopub.status.busy": "2021-01-03T22:31:46.019860Z",
          "iopub.status.idle": "2021-01-03T22:31:46.025126Z",
          "shell.execute_reply": "2021-01-03T22:31:46.024427Z"
        },
        "papermill": {
          "duration": 0.178565,
          "end_time": "2021-01-03T22:31:46.025259",
          "exception": false,
          "start_time": "2021-01-03T22:31:45.846694",
          "status": "completed"
        },
        "tags": [],
        "id": "6gc3WxzhSnPW",
        "outputId": "ad3c140f-6607-47e7-c13f-bc6debc11ba9"
      },
      "source": [
        "del content_agg\n",
        "del bundle_agg\n",
        "del part_agg\n",
        "gc.collect()"
      ],
      "execution_count": null,
      "outputs": [
        {
          "output_type": "execute_result",
          "data": {
            "text/plain": [
              "100"
            ]
          },
          "metadata": {
            "tags": []
          },
          "execution_count": 69
        }
      ]
    },
    {
      "cell_type": "code",
      "metadata": {
        "execution": {
          "iopub.execute_input": "2021-01-03T22:31:46.205859Z",
          "iopub.status.busy": "2021-01-03T22:31:46.204952Z",
          "iopub.status.idle": "2021-01-03T22:31:46.209351Z",
          "shell.execute_reply": "2021-01-03T22:31:46.209925Z"
        },
        "papermill": {
          "duration": 0.097504,
          "end_time": "2021-01-03T22:31:46.210106",
          "exception": false,
          "start_time": "2021-01-03T22:31:46.112602",
          "status": "completed"
        },
        "tags": [],
        "id": "RMd3nYo1SnPW",
        "outputId": "923a0c7a-a0b6-4ca4-e949-e81c33ce4425"
      },
      "source": [
        "len(train_df)"
      ],
      "execution_count": null,
      "outputs": [
        {
          "output_type": "execute_result",
          "data": {
            "text/plain": [
              "99271300"
            ]
          },
          "metadata": {
            "tags": []
          },
          "execution_count": 70
        }
      ]
    },
    {
      "cell_type": "markdown",
      "metadata": {
        "papermill": {
          "duration": 0.08732,
          "end_time": "2021-01-03T22:31:46.385062",
          "exception": false,
          "start_time": "2021-01-03T22:31:46.297742",
          "status": "completed"
        },
        "tags": [],
        "id": "mcocK4wgSnPW"
      },
      "source": [
        "# Train"
      ]
    },
    {
      "cell_type": "code",
      "metadata": {
        "execution": {
          "iopub.execute_input": "2021-01-03T22:31:46.576496Z",
          "iopub.status.busy": "2021-01-03T22:31:46.570358Z",
          "iopub.status.idle": "2021-01-03T22:31:46.579937Z",
          "shell.execute_reply": "2021-01-03T22:31:46.579173Z"
        },
        "papermill": {
          "duration": 0.105243,
          "end_time": "2021-01-03T22:31:46.580088",
          "exception": false,
          "start_time": "2021-01-03T22:31:46.474845",
          "status": "completed"
        },
        "tags": [],
        "id": "eCk3HvnUSnPX"
      },
      "source": [
        "features_dict = {\n",
        "    'timestamp':'float16',\n",
        "    'user_interaction_count':'int16',\n",
        "    'user_interaction_timestamp_mean':'float32',\n",
        "    'lagtime':'float32',\n",
        "    'lagtime2':'float32',\n",
        "    'lagtime3':'float32',\n",
        "    'content_id':'int16',\n",
        "    'task_container_id':'int16',\n",
        "    'user_lecture_sum':'int16',\n",
        "    'user_lecture_lv':'float16',\n",
        "    'prior_question_elapsed_time':'float32',\n",
        "    'delta_prior_question_elapsed_time':'int32',\n",
        "    'user_correctness':'float16',\n",
        "    'user_uncorrect_count':'int16',\n",
        "    'user_correct_count':'int16',\n",
        "    'content_correctness_std':'float16',\n",
        "    'content_correct_count':'int32',\n",
        "    'content_uncorrect_count':'int32',\n",
        "    'content_elapsed_time_mean':'float16',\n",
        "    'content_had_explanation_mean':'float16',\n",
        "    'content_explation_false_mean':'float16',\n",
        "    'content_explation_true_mean':'float16',\n",
        "    'task_container_correctness':'float16',\n",
        "    'task_container_std':'float16',\n",
        "    'task_container_cor_count':'int32',\n",
        "    'task_container_uncor_count':'int32',\n",
        "    'attempt_no':'int8',\n",
        "    'part':'int8',\n",
        "    'part_correctness_mean':'float16',\n",
        "    'part_correctness_std':'float16',\n",
        "    'part_uncor_count':'int32',\n",
        "    'part_cor_count':'int32',\n",
        "    'tags0': 'int8',\n",
        "    'tags1': 'int8',\n",
        "    'tags2': 'int8',\n",
        "    'tags3': 'int8',\n",
        "    'tags4': 'int8',\n",
        "    'tags5': 'int8',\n",
        "    'part_bundle_id':'int32',\n",
        "    'content_sub_bundle':'int8',\n",
        "    'prior_question_had_explanation':'int8',\n",
        "    'explanation_mean':'float16', \n",
        "    'explanation_false_count':'int16',\n",
        "    'explanation_true_count':'int16',\n",
        "    'hmean_user_content':'float16',\n",
        "}\n",
        "categorical_columns= [\n",
        "    'content_id',\n",
        "    'task_container_id',\n",
        "    'part',\n",
        "    'tags0',\n",
        "    'tags1',\n",
        "    'tags2',\n",
        "    'tags3',\n",
        "    'tags4',\n",
        "    'tags5',\n",
        "    'part_bundle_id',\n",
        "    'content_sub_bundle',\n",
        "    'prior_question_had_explanation',\n",
        "]\n",
        "\n",
        "features=list(features_dict.keys())\n"
      ],
      "execution_count": null,
      "outputs": []
    },
    {
      "cell_type": "code",
      "metadata": {
        "execution": {
          "iopub.execute_input": "2021-01-03T22:31:46.778852Z",
          "iopub.status.busy": "2021-01-03T22:31:46.777934Z",
          "iopub.status.idle": "2021-01-03T22:31:59.686549Z",
          "shell.execute_reply": "2021-01-03T22:31:59.685557Z"
        },
        "papermill": {
          "duration": 13.020028,
          "end_time": "2021-01-03T22:31:59.686759",
          "exception": false,
          "start_time": "2021-01-03T22:31:46.666731",
          "status": "completed"
        },
        "tags": [],
        "id": "gXPL86nlSnPX",
        "outputId": "64a95056-defe-4459-dbf4-2de20a3a2632"
      },
      "source": [
        "flag_lgbm=True\n",
        "clfs = list()\n",
        "params = {\n",
        "'num_leaves': 200,\n",
        "'max_bin':450,\n",
        "'feature_fraction': 0.52,\n",
        "'bagging_fraction': 0.52,\n",
        "'objective': 'binary',\n",
        "'learning_rate': 0.05,\n",
        "\"boosting_type\": \"gbdt\",\n",
        "\"metric\": 'auc',\n",
        "}\n",
        "trains=list()\n",
        "valids=list()\n",
        "num=1\n",
        "for i in range(0,num):\n",
        "    train_df_clf=train_df[1200*10000:2*1200*10000]\n",
        "    print('sample end')\n",
        "    del train_df\n",
        "    users=train_df_clf['user_id'].drop_duplicates()\n",
        "    users=users.sample(frac=0.08)\n",
        "    users_df=pd.DataFrame()\n",
        "    users_df['user_id']=users.values\n",
        "    print(train_df_clf.head())\n",
        "   \n",
        "    valid_df_newuser = pd.merge(train_df_clf, users_df, on=['user_id'], how='inner',right_index=True)\n",
        "    del users_df\n",
        "    del users\n",
        "    gc.collect()\n",
        "    train_df_clf.drop(valid_df_newuser.index, inplace=True)\n",
        "    print('pd.merge(train_df_clf, questions_df)')\n",
        "    train_df_clf = pd.merge(train_df_clf, questions_df, on='content_id', how='left',right_index=True)\n",
        "    valid_df_newuser = pd.merge(valid_df_newuser, questions_df, on='content_id', how='left',right_index=True)\n",
        "    train_df_clf['hmean_user_content'] = 2 * ((train_df_clf['user_correctness'] * train_df_clf['content_correctness_std']) /(train_df_clf['user_correctness'] + train_df_clf['content_correctness_std']))\n",
        "    valid_df_newuser['hmean_user_content'] = 2 * ((valid_df_newuser['user_correctness'] * valid_df_newuser['content_correctness_std']) /(valid_df_newuser['user_correctness'] + valid_df_newuser['content_correctness_std']))\n",
        "    print(\"hmean added\")\n",
        "    print('valid_df')\n",
        "    valid_df=train_df_clf.sample(frac=0.1)\n",
        "    train_df_clf.drop(valid_df.index, inplace=True)\n",
        "  \n",
        "    valid_df = valid_df.append(valid_df_newuser)\n",
        "    del valid_df_newuser\n",
        "    gc.collect()\n",
        "\n",
        "    trains.append(train_df_clf)\n",
        "    valids.append(valid_df)\n",
        "    print('train_df_clf length：',len(train_df_clf))\n",
        "    print('valid_df length：',len(valid_df))"
      ],
      "execution_count": null,
      "outputs": [
        {
          "output_type": "stream",
          "text": [
            "sample end\n",
            "          timestamp    user_id  content_id  content_type_id  \\\n",
            "12000000     3766.0  266972778       10457                0   \n",
            "12000001     3766.0  266972778        7866                0   \n",
            "12000002     3766.0  266972778           6                0   \n",
            "12000003     3766.0  266972778        7896                0   \n",
            "12000004     3766.0  266972778       10552                0   \n",
            "\n",
            "          task_container_id  answered_correctly  prior_question_elapsed_time  \\\n",
            "12000000                478                   0                      20000.0   \n",
            "12000001                479                   1                      19000.0   \n",
            "12000002                480                   1                      21000.0   \n",
            "12000003                481                   1                      23000.0   \n",
            "12000004                482                   1                      19000.0   \n",
            "\n",
            "          prior_question_had_explanation  user_interaction_count  \\\n",
            "12000000                               1                     688   \n",
            "12000001                               1                     689   \n",
            "12000002                               1                     690   \n",
            "12000003                               1                     691   \n",
            "12000004                               1                     692   \n",
            "\n",
            "          user_interaction_timestamp_mean  ...  user_correctness  \\\n",
            "12000000                         5.472768  ...          0.667969   \n",
            "12000001                         5.464843  ...          0.666992   \n",
            "12000002                         5.456943  ...          0.667480   \n",
            "12000003                         5.449060  ...          0.667969   \n",
            "12000004                         5.441191  ...          0.668457   \n",
            "\n",
            "          user_correct_count  user_uncorrect_count  explanation_mean  \\\n",
            "12000000                 449                   223          0.954102   \n",
            "12000001                 449                   224          0.954102   \n",
            "12000002                 450                   224          0.954102   \n",
            "12000003                 451                   224          0.954102   \n",
            "12000004                 452                   224          0.954102   \n",
            "\n",
            "          explanation_true_count  explanation_false_count  \\\n",
            "12000000                     642                       31   \n",
            "12000001                     643                       31   \n",
            "12000002                     644                       31   \n",
            "12000003                     645                       31   \n",
            "12000004                     646                       31   \n",
            "\n",
            "          task_container_uncor_count  task_container_cor_count  \\\n",
            "12000000                       16168                     33598   \n",
            "12000001                       15928                     33620   \n",
            "12000002                       16015                     33644   \n",
            "12000003                       15783                     33718   \n",
            "12000004                       15925                     33523   \n",
            "\n",
            "          task_container_std  task_container_correctness  \n",
            "12000000            0.219360                    0.675293  \n",
            "12000001            0.218140                    0.678711  \n",
            "12000002            0.218506                    0.677734  \n",
            "12000003            0.217163                    0.681152  \n",
            "12000004            0.218384                    0.677734  \n",
            "\n",
            "[5 rows x 27 columns]\n",
            "pd.merge(train_df_clf, questions_df)\n",
            "hmean added\n",
            "valid_df\n",
            "train_df_clf length： 9934485\n",
            "valid_df length： 2065515\n"
          ],
          "name": "stdout"
        }
      ]
    },
    {
      "cell_type": "code",
      "metadata": {
        "execution": {
          "iopub.execute_input": "2021-01-03T22:31:59.953646Z",
          "iopub.status.busy": "2021-01-03T22:31:59.952801Z",
          "iopub.status.idle": "2021-01-03T22:31:59.956492Z",
          "shell.execute_reply": "2021-01-03T22:31:59.957031Z"
        },
        "papermill": {
          "duration": 0.177102,
          "end_time": "2021-01-03T22:31:59.957204",
          "exception": false,
          "start_time": "2021-01-03T22:31:59.780102",
          "status": "completed"
        },
        "tags": [],
        "id": "ZBH1-hB6SnPX",
        "outputId": "e9307765-5c4e-4473-a72e-10363a3edbec"
      },
      "source": [
        "del train_df_clf\n",
        "del valid_df\n",
        "gc.collect()"
      ],
      "execution_count": null,
      "outputs": [
        {
          "output_type": "execute_result",
          "data": {
            "text/plain": [
              "20"
            ]
          },
          "metadata": {
            "tags": []
          },
          "execution_count": 73
        }
      ]
    },
    {
      "cell_type": "code",
      "metadata": {
        "execution": {
          "iopub.execute_input": "2021-01-03T22:32:00.151256Z",
          "iopub.status.busy": "2021-01-03T22:32:00.150477Z",
          "iopub.status.idle": "2021-01-03T22:56:17.006838Z",
          "shell.execute_reply": "2021-01-03T22:56:17.007464Z"
        },
        "papermill": {
          "duration": 1456.961225,
          "end_time": "2021-01-03T22:56:17.007673",
          "exception": false,
          "start_time": "2021-01-03T22:32:00.046448",
          "status": "completed"
        },
        "tags": [],
        "id": "L_mSK712SnPX",
        "outputId": "9c412b38-4447-4038-d095-9b1b6530ad64"
      },
      "source": [
        "\n",
        "for i in range(0,num):\n",
        "    X_train_np = trains[i][features].values.astype(np.float32)\n",
        "    X_valid_np = valids[i][features].values.astype(np.float32)\n",
        "    tr_data = lgb.Dataset(X_train_np, label=trains[i][target], feature_name=list(features))\n",
        "    va_data = lgb.Dataset(X_valid_np, label=valids[i][target], feature_name=list(features))\n",
        "    del trains\n",
        "    del valids\n",
        "    del X_train_np\n",
        "    del X_valid_np\n",
        "    gc.collect()\n",
        "\n",
        "    model = lgb.train(\n",
        "        params, \n",
        "        tr_data,\n",
        "        num_boost_round=5000,\n",
        "        valid_sets=[tr_data, va_data],\n",
        "        early_stopping_rounds=50,\n",
        "        feature_name=features,\n",
        "        categorical_feature=categorical_columns,\n",
        "        verbose_eval=50\n",
        "    )\n",
        "    clfs.append(model)\n",
        "\n",
        "    fig,ax = plt.subplots(figsize=(15,15))\n",
        "    lgb.plot_importance(model, ax=ax,importance_type='gain',max_num_features=50)\n",
        "    plt.show()\n",
        "\n",
        "    del tr_data\n",
        "    del va_data\n",
        "    gc.collect()"
      ],
      "execution_count": null,
      "outputs": [
        {
          "output_type": "stream",
          "text": [
            "/opt/conda/lib/python3.7/site-packages/lightgbm/basic.py:1295: UserWarning: categorical_feature in Dataset is overridden.\n",
            "New categorical_feature is ['content_id', 'content_sub_bundle', 'part', 'part_bundle_id', 'prior_question_had_explanation', 'tags0', 'tags1', 'tags2', 'tags3', 'tags4', 'tags5', 'task_container_id']\n",
            "  'New categorical_feature is {}'.format(sorted(list(categorical_feature))))\n"
          ],
          "name": "stderr"
        },
        {
          "output_type": "stream",
          "text": [
            "Training until validation scores don't improve for 50 rounds\n",
            "[50]\ttraining's auc: 0.770448\tvalid_1's auc: 0.76659\n",
            "[100]\ttraining's auc: 0.780876\tvalid_1's auc: 0.772021\n",
            "[150]\ttraining's auc: 0.788051\tvalid_1's auc: 0.773823\n",
            "[200]\ttraining's auc: 0.793092\tvalid_1's auc: 0.774751\n",
            "[250]\ttraining's auc: 0.79695\tvalid_1's auc: 0.775026\n",
            "[300]\ttraining's auc: 0.79995\tvalid_1's auc: 0.77522\n",
            "Early stopping, best iteration is:\n",
            "[293]\ttraining's auc: 0.799578\tvalid_1's auc: 0.775239\n"
          ],
          "name": "stdout"
        },
        {
          "output_type": "display_data",
          "data": {
            "image/png": "[encoded data removed]",
            "text/plain": [
              "<Figure size 1080x1080 with 1 Axes>"
            ]
          },
          "metadata": {
            "tags": [],
            "needs_background": "light"
          }
        }
      ]
    },
    {
      "cell_type": "code",
      "metadata": {
        "execution": {
          "iopub.execute_input": "2021-01-03T22:56:17.234979Z",
          "iopub.status.busy": "2021-01-03T22:56:17.232996Z",
          "iopub.status.idle": "2021-01-03T22:56:35.111124Z",
          "shell.execute_reply": "2021-01-03T22:56:35.110456Z"
        },
        "papermill": {
          "duration": 18.005984,
          "end_time": "2021-01-03T22:56:35.111270",
          "exception": false,
          "start_time": "2021-01-03T22:56:17.105286",
          "status": "completed"
        },
        "tags": [],
        "id": "nwDi8w72SnPY",
        "outputId": "46b096e7-f574-42d4-cb18-aec3995dddb5"
      },
      "source": [
        "import torch\n",
        "import torch.nn as nn\n",
        "from torch.utils.data import Dataset, DataLoader\n",
        "\n",
        "\n",
        "MAX_SEQ = 100\n",
        "\n",
        "class FFN(nn.Module):\n",
        "    def __init__(self, state_size=200):\n",
        "        super(FFN, self).__init__()\n",
        "        self.state_size = state_size\n",
        "\n",
        "        self.lr1 = nn.Linear(state_size, state_size)\n",
        "        self.relu = nn.ReLU()\n",
        "        self.lr2 = nn.Linear(state_size, state_size)\n",
        "        self.dropout = nn.Dropout(0.2)\n",
        "    \n",
        "    def forward(self, x):\n",
        "        x = self.lr1(x)\n",
        "        x = self.relu(x)\n",
        "        x = self.lr2(x)\n",
        "        return self.dropout(x)\n",
        "\n",
        "def future_mask(seq_length):\n",
        "    future_mask = np.triu(np.ones((seq_length, seq_length)), k=1).astype('bool')\n",
        "    return torch.from_numpy(future_mask)\n",
        "\n",
        "\n",
        "class SAKTModel(nn.Module):\n",
        "    def __init__(self, n_skill, max_seq=MAX_SEQ, embed_dim=128):\n",
        "        super(SAKTModel, self).__init__()\n",
        "        self.n_skill = n_skill\n",
        "        self.embed_dim = embed_dim\n",
        "\n",
        "        self.embedding = nn.Embedding(2*n_skill+1, embed_dim)\n",
        "        self.pos_embedding = nn.Embedding(max_seq-1, embed_dim)\n",
        "        self.e_embedding = nn.Embedding(n_skill+1, embed_dim)\n",
        "\n",
        "        self.multi_att = nn.MultiheadAttention(embed_dim=embed_dim, num_heads=8, dropout=0.2)\n",
        "\n",
        "        self.dropout = nn.Dropout(0.2)\n",
        "        self.layer_normal = nn.LayerNorm(embed_dim) \n",
        "\n",
        "        self.ffn = FFN(embed_dim)\n",
        "        self.pred = nn.Linear(embed_dim, 1)\n",
        "    \n",
        "    def forward(self, x, question_ids):\n",
        "        device = x.device        \n",
        "        x = self.embedding(x)\n",
        "        pos_id = torch.arange(x.size(1)).unsqueeze(0).to(device)\n",
        "\n",
        "        pos_x = self.pos_embedding(pos_id)\n",
        "        x = x + pos_x\n",
        "\n",
        "        e = self.e_embedding(question_ids)\n",
        "\n",
        "        x = x.permute(1, 0, 2) # x: [bs, s_len, embed] => [s_len, bs, embed]\n",
        "        e = e.permute(1, 0, 2)\n",
        "        att_mask = future_mask(x.size(0)).to(device)\n",
        "        att_output, att_weight = self.multi_att(e, x, x, attn_mask=att_mask)\n",
        "        att_output = self.layer_normal(att_output + e)\n",
        "        att_output = att_output.permute(1, 0, 2) # att_output: [s_len, bs, embed] => [bs, s_len, embed]\n",
        "\n",
        "        x = self.ffn(att_output)\n",
        "        x = self.layer_normal(x + att_output)\n",
        "        x = self.pred(x)\n",
        "\n",
        "        return x.squeeze(-1), att_weight\n",
        "    \n",
        "    \n",
        "skills = joblib.load(\"/kaggle/input/riiid-sakt-model-dataset-public/skills.pkl.zip\")\n",
        "n_skill = len(skills)\n",
        "group = joblib.load(\"/kaggle/input/riiid-sakt-model-dataset-public/group.pkl.zip\")\n",
        "\n",
        "\n",
        "device = torch.device(\"cuda\" if torch.cuda.is_available() else \"cpu\")\n",
        "\n",
        "nn_model = SAKTModel(n_skill, embed_dim=128)\n",
        "try:\n",
        "    nn_model.load_state_dict(torch.load(\"/kaggle/input/riiid-sakt-model-dataset-public/sakt_model.pt\"))\n",
        "except:\n",
        "    nn_model.load_state_dict(torch.load(\"/kaggle/input/riiid-sakt-model-dataset-public/sakt_model.pt\", map_location='cpu'))\n",
        "nn_model.to(device)\n",
        "nn_model.eval()\n",
        "\n"
      ],
      "execution_count": null,
      "outputs": [
        {
          "output_type": "execute_result",
          "data": {
            "text/plain": [
              "SAKTModel(\n",
              "  (embedding): Embedding(27047, 128)\n",
              "  (pos_embedding): Embedding(99, 128)\n",
              "  (e_embedding): Embedding(13524, 128)\n",
              "  (multi_att): MultiheadAttention(\n",
              "    (out_proj): _LinearWithBias(in_features=128, out_features=128, bias=True)\n",
              "  )\n",
              "  (dropout): Dropout(p=0.2, inplace=False)\n",
              "  (layer_normal): LayerNorm((128,), eps=1e-05, elementwise_affine=True)\n",
              "  (ffn): FFN(\n",
              "    (lr1): Linear(in_features=128, out_features=128, bias=True)\n",
              "    (relu): ReLU()\n",
              "    (lr2): Linear(in_features=128, out_features=128, bias=True)\n",
              "    (dropout): Dropout(p=0.2, inplace=False)\n",
              "  )\n",
              "  (pred): Linear(in_features=128, out_features=1, bias=True)\n",
              ")"
            ]
          },
          "metadata": {
            "tags": []
          },
          "execution_count": 75
        }
      ]
    },
    {
      "cell_type": "markdown",
      "metadata": {
        "papermill": {
          "duration": 0.09896,
          "end_time": "2021-01-03T22:56:35.309452",
          "exception": false,
          "start_time": "2021-01-03T22:56:35.210492",
          "status": "completed"
        },
        "tags": [],
        "id": "1ptiOY7VSnPY"
      },
      "source": [
        "# Inference"
      ]
    },
    {
      "cell_type": "code",
      "metadata": {
        "execution": {
          "iopub.execute_input": "2021-01-03T22:56:35.528629Z",
          "iopub.status.busy": "2021-01-03T22:56:35.527862Z",
          "iopub.status.idle": "2021-01-03T22:56:35.531347Z",
          "shell.execute_reply": "2021-01-03T22:56:35.530725Z"
        },
        "papermill": {
          "duration": 0.120033,
          "end_time": "2021-01-03T22:56:35.531471",
          "exception": false,
          "start_time": "2021-01-03T22:56:35.411438",
          "status": "completed"
        },
        "tags": [],
        "id": "uHYLl8ZhSnPY"
      },
      "source": [
        "class TestDataset(Dataset):\n",
        "    def __init__(self, samples, test_df, skills, max_seq=MAX_SEQ): \n",
        "        super(TestDataset, self).__init__()\n",
        "        self.samples = samples\n",
        "        self.user_ids = [x for x in test_df[\"user_id\"].unique()]\n",
        "        self.test_df = test_df\n",
        "        self.skills = skills\n",
        "        self.n_skill = len(skills)\n",
        "        self.max_seq = max_seq\n",
        "\n",
        "    def __len__(self):\n",
        "        return self.test_df.shape[0]\n",
        "\n",
        "    def __getitem__(self, index):\n",
        "        test_info = self.test_df.iloc[index]\n",
        "\n",
        "        user_id = test_info[\"user_id\"]\n",
        "        target_id = test_info[\"content_id\"]\n",
        "\n",
        "        q = np.zeros(self.max_seq, dtype=int)\n",
        "        qa = np.zeros(self.max_seq, dtype=int)\n",
        "\n",
        "        if user_id in self.samples.index:\n",
        "            q_, qa_ = self.samples[user_id]\n",
        "            \n",
        "            seq_len = len(q_)\n",
        "\n",
        "            if seq_len >= self.max_seq:\n",
        "                q = q_[-self.max_seq:]\n",
        "                qa = qa_[-self.max_seq:]\n",
        "            else:\n",
        "                q[-seq_len:] = q_\n",
        "                qa[-seq_len:] = qa_          \n",
        "        \n",
        "        x = np.zeros(self.max_seq-1, dtype=int)\n",
        "        x = q[1:].copy()\n",
        "        x += (qa[1:] == 1) * self.n_skill\n",
        "        \n",
        "        questions = np.append(q[2:], [target_id])\n",
        "        \n",
        "        return x, questions"
      ],
      "execution_count": null,
      "outputs": []
    },
    {
      "cell_type": "code",
      "metadata": {
        "execution": {
          "iopub.execute_input": "2021-01-03T22:56:35.970986Z",
          "iopub.status.busy": "2021-01-03T22:56:35.969934Z",
          "iopub.status.idle": "2021-01-03T22:56:36.197437Z",
          "shell.execute_reply": "2021-01-03T22:56:36.196671Z"
        },
        "papermill": {
          "duration": 0.567792,
          "end_time": "2021-01-03T22:56:36.197572",
          "exception": false,
          "start_time": "2021-01-03T22:56:35.629780",
          "status": "completed"
        },
        "tags": [],
        "id": "RqGJDe-0SnPY"
      },
      "source": [
        "user_sum_dict = user_agg['sum'].astype('int16').to_dict(defaultdict(int))\n",
        "user_count_dict = user_agg['count'].astype('int16').to_dict(defaultdict(int))"
      ],
      "execution_count": null,
      "outputs": []
    },
    {
      "cell_type": "code",
      "metadata": {
        "execution": {
          "iopub.execute_input": "2021-01-03T22:56:36.521844Z",
          "iopub.status.busy": "2021-01-03T22:56:36.506746Z",
          "iopub.status.idle": "2021-01-03T22:56:37.077171Z",
          "shell.execute_reply": "2021-01-03T22:56:37.076496Z"
        },
        "papermill": {
          "duration": 0.78165,
          "end_time": "2021-01-03T22:56:37.077301",
          "exception": false,
          "start_time": "2021-01-03T22:56:36.295651",
          "status": "completed"
        },
        "tags": [],
        "id": "ro3kimAjSnPY",
        "outputId": "257b83b7-9e6a-4d3d-8df7-d95f98987e62"
      },
      "source": [
        "del user_agg\n",
        "gc.collect()\n",
        "\n",
        "task_container_sum_dict = task_container_agg['sum'].astype('int32').to_dict(defaultdict(int))\n",
        "task_container_count_dict = task_container_agg['count'].astype('int32').to_dict(defaultdict(int))\n",
        "task_container_std_dict = task_container_agg['var'].astype('float16').to_dict(defaultdict(int))\n",
        "\n",
        "explanation_sum_dict = explanation_agg['sum'].astype('int16').to_dict(defaultdict(int))\n",
        "explanation_count_dict = explanation_agg['count'].astype('int16').to_dict(defaultdict(int))\n",
        "del task_container_agg\n",
        "del explanation_agg\n",
        "gc.collect()"
      ],
      "execution_count": null,
      "outputs": [
        {
          "output_type": "execute_result",
          "data": {
            "text/plain": [
              "0"
            ]
          },
          "metadata": {
            "tags": []
          },
          "execution_count": 78
        }
      ]
    },
    {
      "cell_type": "code",
      "metadata": {
        "execution": {
          "iopub.execute_input": "2021-01-03T22:56:37.286014Z",
          "iopub.status.busy": "2021-01-03T22:56:37.284942Z",
          "iopub.status.idle": "2021-01-03T22:56:37.881447Z",
          "shell.execute_reply": "2021-01-03T22:56:37.880655Z"
        },
        "papermill": {
          "duration": 0.703922,
          "end_time": "2021-01-03T22:56:37.881660",
          "exception": false,
          "start_time": "2021-01-03T22:56:37.177738",
          "status": "completed"
        },
        "tags": [],
        "id": "MYYnT0btSnPY",
        "outputId": "be14d131-6ee5-4d58-dded-f902a871d26a"
      },
      "source": [
        "user_lecture_sum_dict = user_lecture_agg['sum'].astype('int16').to_dict(defaultdict(int))\n",
        "user_lecture_count_dict = user_lecture_agg['count'].astype('int16').to_dict(defaultdict(int))\n",
        "\n",
        "del user_lecture_agg\n",
        "gc.collect()"
      ],
      "execution_count": null,
      "outputs": [
        {
          "output_type": "execute_result",
          "data": {
            "text/plain": [
              "20"
            ]
          },
          "metadata": {
            "tags": []
          },
          "execution_count": 79
        }
      ]
    },
    {
      "cell_type": "code",
      "metadata": {
        "execution": {
          "iopub.execute_input": "2021-01-03T22:56:38.096836Z",
          "iopub.status.busy": "2021-01-03T22:56:38.095939Z",
          "iopub.status.idle": "2021-01-03T22:56:39.219144Z",
          "shell.execute_reply": "2021-01-03T22:56:39.219788Z"
        },
        "papermill": {
          "duration": 1.232449,
          "end_time": "2021-01-03T22:56:39.219953",
          "exception": false,
          "start_time": "2021-01-03T22:56:37.987504",
          "status": "completed"
        },
        "tags": [],
        "id": "7O79GIYeSnPZ",
        "outputId": "3b3429ec-e5cc-457c-edd2-4ee6ff7750b3"
      },
      "source": [
        "max_timestamp_u_dict=max_timestamp_u.set_index('user_id').to_dict()\n",
        "max_timestamp_u_dict2=max_timestamp_u2.set_index('user_id').to_dict()\n",
        "max_timestamp_u_dict3=max_timestamp_u3.set_index('user_id').to_dict()\n",
        "user_prior_question_elapsed_time_dict=user_prior_question_elapsed_time.set_index('user_id').to_dict()\n",
        "del max_timestamp_u\n",
        "del max_timestamp_u2\n",
        "del max_timestamp_u3\n",
        "del user_prior_question_elapsed_time\n",
        "gc.collect()"
      ],
      "execution_count": null,
      "outputs": [
        {
          "output_type": "execute_result",
          "data": {
            "text/plain": [
              "20"
            ]
          },
          "metadata": {
            "tags": []
          },
          "execution_count": 80
        }
      ]
    },
    {
      "cell_type": "code",
      "metadata": {
        "execution": {
          "iopub.execute_input": "2021-01-03T22:56:39.427405Z",
          "iopub.status.busy": "2021-01-03T22:56:39.426601Z",
          "iopub.status.idle": "2021-01-03T22:56:58.753590Z",
          "shell.execute_reply": "2021-01-03T22:56:58.752997Z"
        },
        "papermill": {
          "duration": 19.432776,
          "end_time": "2021-01-03T22:56:58.753749",
          "exception": false,
          "start_time": "2021-01-03T22:56:39.320973",
          "status": "completed"
        },
        "tags": [],
        "id": "U442kr3ESnPZ",
        "outputId": "944e112c-4a86-4e69-cbbd-c2293c8708a1"
      },
      "source": [
        "attempt_no_sum_dict = attempt_no_agg['sum'].to_dict(defaultdict(int))\n",
        "\n",
        "del attempt_no_agg\n",
        "gc.collect()"
      ],
      "execution_count": null,
      "outputs": [
        {
          "output_type": "execute_result",
          "data": {
            "text/plain": [
              "0"
            ]
          },
          "metadata": {
            "tags": []
          },
          "execution_count": 81
        }
      ]
    },
    {
      "cell_type": "code",
      "metadata": {
        "execution": {
          "iopub.execute_input": "2021-01-03T22:56:58.961457Z",
          "iopub.status.busy": "2021-01-03T22:56:58.960451Z",
          "iopub.status.idle": "2021-01-03T22:56:58.963977Z",
          "shell.execute_reply": "2021-01-03T22:56:58.963210Z"
        },
        "papermill": {
          "duration": 0.110247,
          "end_time": "2021-01-03T22:56:58.964117",
          "exception": false,
          "start_time": "2021-01-03T22:56:58.853870",
          "status": "completed"
        },
        "tags": [],
        "id": "w2mc8J7USnPZ"
      },
      "source": [
        "def get_max_attempt(user_id,content_id):\n",
        "    k = (user_id,content_id)\n",
        "\n",
        "    if k in attempt_no_sum_dict.keys():\n",
        "        attempt_no_sum_dict[k]+=1\n",
        "        return attempt_no_sum_dict[k]\n",
        "\n",
        "    attempt_no_sum_dict[k] = 1\n",
        "    return attempt_no_sum_dict[k]"
      ],
      "execution_count": null,
      "outputs": []
    },
    {
      "cell_type": "code",
      "metadata": {
        "execution": {
          "iopub.execute_input": "2021-01-03T22:56:59.172561Z",
          "iopub.status.busy": "2021-01-03T22:56:59.171266Z",
          "iopub.status.idle": "2021-01-03T22:56:59.174058Z",
          "shell.execute_reply": "2021-01-03T22:56:59.174595Z"
        },
        "papermill": {
          "duration": 0.110283,
          "end_time": "2021-01-03T22:56:59.174787",
          "exception": false,
          "start_time": "2021-01-03T22:56:59.064504",
          "status": "completed"
        },
        "tags": [],
        "id": "BUEx7zNESnPZ"
      },
      "source": [
        "env = riiideducation.make_env()"
      ],
      "execution_count": null,
      "outputs": []
    },
    {
      "cell_type": "code",
      "metadata": {
        "execution": {
          "iopub.execute_input": "2021-01-03T22:56:59.383416Z",
          "iopub.status.busy": "2021-01-03T22:56:59.382314Z",
          "iopub.status.idle": "2021-01-03T22:56:59.386277Z",
          "shell.execute_reply": "2021-01-03T22:56:59.385478Z"
        },
        "papermill": {
          "duration": 0.110987,
          "end_time": "2021-01-03T22:56:59.386410",
          "exception": false,
          "start_time": "2021-01-03T22:56:59.275423",
          "status": "completed"
        },
        "tags": [],
        "id": "yeZqHgjgSnPZ"
      },
      "source": [
        "iter_test = env.iter_test()\n",
        "prior_test_df = None\n",
        "prev_test_df1 = None"
      ],
      "execution_count": null,
      "outputs": []
    },
    {
      "cell_type": "code",
      "metadata": {
        "execution": {
          "iopub.execute_input": "2021-01-03T22:56:59.594227Z",
          "iopub.status.busy": "2021-01-03T22:56:59.593411Z",
          "iopub.status.idle": "2021-01-03T22:56:59.596499Z",
          "shell.execute_reply": "2021-01-03T22:56:59.595922Z"
        },
        "papermill": {
          "duration": 0.109364,
          "end_time": "2021-01-03T22:56:59.596674",
          "exception": false,
          "start_time": "2021-01-03T22:56:59.487310",
          "status": "completed"
        },
        "tags": [],
        "id": "ST0HNTD-SnPZ"
      },
      "source": [
        "N=[0.4,0.6]"
      ],
      "execution_count": null,
      "outputs": []
    },
    {
      "cell_type": "code",
      "metadata": {
        "execution": {
          "iopub.execute_input": "2021-01-03T22:56:59.862008Z",
          "iopub.status.busy": "2021-01-03T22:56:59.830471Z",
          "iopub.status.idle": "2021-01-03T22:57:01.078879Z",
          "shell.execute_reply": "2021-01-03T22:57:01.078047Z"
        },
        "papermill": {
          "duration": 1.37994,
          "end_time": "2021-01-03T22:57:01.079021",
          "exception": false,
          "start_time": "2021-01-03T22:56:59.699081",
          "status": "completed"
        },
        "tags": [],
        "id": "DsGAyk_iSnPa"
      },
      "source": [
        "for (test_df, sample_prediction_df) in iter_test:\n",
        "    test_df1=test_df.copy()\n",
        "    if (prev_test_df1 is not None):\n",
        "        prev_test_df1['answered_correctly'] = eval(test_df1['prior_group_answers_correct'].iloc[0])\n",
        "        prev_test_df1 = prev_test_df1[prev_test_df1.content_type_id == False]\n",
        "        \n",
        "        prev_group = prev_test_df1[['user_id', 'content_id', 'answered_correctly']].groupby('user_id').apply(lambda r: (\n",
        "            r['content_id'].values,\n",
        "            r['answered_correctly'].values))\n",
        "        for prev_user_id in prev_group.index:\n",
        "            if prev_user_id in group.index:\n",
        "                group[prev_user_id] = (\n",
        "                    np.append(group[prev_user_id][0], prev_group[prev_user_id][0])[-MAX_SEQ:], \n",
        "                    np.append(group[prev_user_id][1], prev_group[prev_user_id][1])[-MAX_SEQ:]\n",
        "                )\n",
        " \n",
        "            else:\n",
        "                group[prev_user_id] = (\n",
        "                    prev_group[prev_user_id][0], \n",
        "                    prev_group[prev_user_id][1]\n",
        "                )\n",
        "\n",
        "    prev_test_df1 = test_df1.copy()\n",
        "    \n",
        "    test_df1 = test_df1[test_df1.content_type_id == False]\n",
        "    test_dataset = TestDataset(group, test_df1, skills)\n",
        "    test_dataloader = DataLoader(test_dataset, batch_size=51200, shuffle=False)\n",
        "    \n",
        "    outs = []\n",
        "\n",
        "    for item in test_dataloader:\n",
        "        x = item[0].to(device).long()\n",
        "        target_id = item[1].to(device).long()\n",
        "        with torch.no_grad():\n",
        "            output, att_weight = nn_model(x, target_id)\n",
        "        outs.extend(torch.sigmoid(output)[:, -1].view(-1).data.cpu().numpy())\n",
        "        \n",
        "\n",
        "    if prior_test_df is not None:\n",
        "        prior_test_df[target] = eval(test_df['prior_group_answers_correct'].iloc[0])\n",
        "        prior_test_df = prior_test_df[prior_test_df[target] != -1].reset_index(drop=True)\n",
        "        prior_test_df['prior_question_had_explanation'].fillna(False, inplace=True)       \n",
        "        prior_test_df.prior_question_had_explanation=prior_test_df.prior_question_had_explanation.astype('int8')\n",
        "    \n",
        "        user_ids = prior_test_df['user_id'].values\n",
        "        targets = prior_test_df[target].values        \n",
        "        \n",
        "        for user_id, answered_correctly in zip(user_ids,targets):\n",
        "            user_sum_dict[user_id] += answered_correctly\n",
        "            user_count_dict[user_id] += 1\n",
        "\n",
        "            \n",
        "\n",
        "    prior_test_df = test_df.copy() \n",
        "        \n",
        "    \n",
        "    question_len=len( test_df[test_df['content_type_id'] == 0])\n",
        "    test_df['prior_question_had_explanation'].fillna(False, inplace=True)\n",
        "    test_df.prior_question_had_explanation=test_df.prior_question_had_explanation.astype('int8')\n",
        "    test_df['prior_question_elapsed_time'].fillna(prior_question_elapsed_time_mean, inplace=True)\n",
        "    \n",
        "\n",
        "    user_lecture_sum = np.zeros(question_len, dtype=np.int16)\n",
        "    user_lecture_count = np.zeros(question_len, dtype=np.int16) \n",
        "    \n",
        "    user_sum = np.zeros(question_len, dtype=np.int16)\n",
        "    user_count = np.zeros(question_len, dtype=np.int16)\n",
        "\n",
        "    task_container_sum = np.zeros(question_len, dtype=np.int32)\n",
        "    task_container_count = np.zeros(question_len, dtype=np.int32)\n",
        "    task_container_std = np.zeros(question_len, dtype=np.float16)\n",
        "\n",
        "    explanation_sum = np.zeros(question_len, dtype=np.int32)\n",
        "    explanation_count = np.zeros(question_len, dtype=np.int32)\n",
        "    delta_prior_question_elapsed_time = np.zeros(question_len, dtype=np.int32)\n",
        "\n",
        "    attempt_no_count = np.zeros(question_len, dtype=np.int16)\n",
        "    lagtime = np.zeros(question_len, dtype=np.float32)\n",
        "    lagtime2 = np.zeros(question_len, dtype=np.float32)\n",
        "    lagtime3 = np.zeros(question_len, dtype=np.float32)\n",
        "\n",
        "   \n",
        "    i=0\n",
        "    for j, (user_id,prior_question_had_explanation,content_type_id,prior_question_elapsed_time,timestamp, content_id,task_container_id) in enumerate(zip(test_df['user_id'].values,test_df['prior_question_had_explanation'].values,test_df['content_type_id'].values,test_df['prior_question_elapsed_time'].values,test_df['timestamp'].values, test_df['content_id'].values, test_df['task_container_id'].values)):\n",
        "        \n",
        "         #\n",
        "        user_lecture_sum_dict[user_id] += content_type_id\n",
        "        user_lecture_count_dict[user_id] += 1\n",
        "        if(content_type_id==1):#\n",
        "            x=1\n",
        "        if(content_type_id==0):#   \n",
        "            user_lecture_sum[i] = user_lecture_sum_dict[user_id]\n",
        "            user_lecture_count[i] = user_lecture_count_dict[user_id]\n",
        "                \n",
        "            user_sum[i] = user_sum_dict[user_id]\n",
        "            user_count[i] = user_count_dict[user_id]\n",
        "            task_container_sum[i] = task_container_sum_dict[task_container_id]\n",
        "            task_container_count[i] = task_container_count_dict[task_container_id]\n",
        "            task_container_std[i]=task_container_std_dict[task_container_id]\n",
        "\n",
        "            explanation_sum_dict[user_id] += prior_question_had_explanation\n",
        "            explanation_count_dict[user_id] += 1\n",
        "            explanation_sum[i] = explanation_sum_dict[user_id]\n",
        "            explanation_count[i] = explanation_count_dict[user_id]\n",
        "\n",
        "            if user_id in max_timestamp_u_dict['max_time_stamp'].keys():\n",
        "                lagtime[i]=timestamp-max_timestamp_u_dict['max_time_stamp'][user_id]\n",
        "                if(max_timestamp_u_dict2['max_time_stamp2'][user_id]==lagtime_mean2):#\n",
        "                    lagtime2[i]=lagtime_mean2\n",
        "                    lagtime3[i]=lagtime_mean3\n",
        "                else:\n",
        "                    lagtime2[i]=timestamp-max_timestamp_u_dict2['max_time_stamp2'][user_id]\n",
        "                    if(max_timestamp_u_dict3['max_time_stamp3'][user_id]==lagtime_mean3):\n",
        "                        lagtime3[i]=lagtime_mean3 #\n",
        "                    else:\n",
        "                        lagtime3[i]=timestamp-max_timestamp_u_dict3['max_time_stamp3'][user_id]\n",
        "                    \n",
        "                    max_timestamp_u_dict3['max_time_stamp3'][user_id]=max_timestamp_u_dict2['max_time_stamp2'][user_id]\n",
        "                        \n",
        "                max_timestamp_u_dict2['max_time_stamp2'][user_id]=max_timestamp_u_dict['max_time_stamp'][user_id]\n",
        "                max_timestamp_u_dict['max_time_stamp'][user_id]=timestamp\n",
        "            else:\n",
        "                lagtime[i]=lagtime_mean\n",
        "                max_timestamp_u_dict['max_time_stamp'].update({user_id:timestamp})\n",
        "                lagtime2[i]=lagtime_mean2#\n",
        "                max_timestamp_u_dict2['max_time_stamp2'].update({user_id:lagtime_mean2})\n",
        "                lagtime3[i]=lagtime_mean3#\n",
        "                max_timestamp_u_dict3['max_time_stamp3'].update({user_id:lagtime_mean3})\n",
        "\n",
        "            if user_id in user_prior_question_elapsed_time_dict['prior_question_elapsed_time'].keys():            \n",
        "                delta_prior_question_elapsed_time[i]=prior_question_elapsed_time-user_prior_question_elapsed_time_dict['prior_question_elapsed_time'][user_id]\n",
        "                user_prior_question_elapsed_time_dict['prior_question_elapsed_time'][user_id]=prior_question_elapsed_time\n",
        "            else:           \n",
        "                delta_prior_question_elapsed_time[i]=delta_prior_question_elapsed_time_mean    \n",
        "                user_prior_question_elapsed_time_dict['prior_question_elapsed_time'].update({user_id:prior_question_elapsed_time})\n",
        "            i=i+1 \n",
        "\n",
        "\n",
        "        \n",
        "    test_df = test_df[test_df['content_type_id'] == 0].reset_index(drop=True)\n",
        "\n",
        "    test_df=test_df.merge(questions_df.loc[questions_df.index.isin(test_df['content_id'])],\n",
        "                  how='left', on='content_id', right_index=True)\n",
        "    \n",
        "    test_df['user_lecture_lv'] = user_lecture_sum / user_lecture_count\n",
        "    test_df['user_lecture_sum'] = user_lecture_sum\n",
        "    \n",
        "    test_df['user_interaction_count'] = user_lecture_count\n",
        "    test_df['user_interaction_timestamp_mean'] = test_df['timestamp']/user_lecture_count\n",
        "    \n",
        "    test_df['user_correctness'] = user_sum / user_count\n",
        "    test_df['user_uncorrect_count'] =user_count-user_sum\n",
        "    test_df['user_correct_count'] =user_sum\n",
        "    test_df['hmean_user_content'] = 2 * ((test_df['user_correctness'] * test_df['content_correctness_std']) /(test_df['user_correctness'] + test_df['content_correctness_std']))\n",
        "\n",
        "  \n",
        "    test_df['task_container_correctness'] = task_container_sum / task_container_count\n",
        "    test_df['task_container_cor_count'] = task_container_sum \n",
        "    test_df['task_container_uncor_count'] =task_container_count-task_container_sum \n",
        "    test_df['task_container_std'] = task_container_std \n",
        "\n",
        "    test_df['explanation_mean'] = explanation_sum / explanation_count\n",
        "    test_df['explanation_true_count'] = explanation_sum\n",
        "    test_df['explanation_false_count'] = explanation_count-explanation_sum \n",
        "    \n",
        "\n",
        "    test_df['delta_prior_question_elapsed_time'] = delta_prior_question_elapsed_time \n",
        "    \n",
        "  \n",
        " \n",
        "    test_df[\"attempt_no\"] = test_df[[\"user_id\", \"content_id\"]].apply(lambda row: get_max_attempt(row[\"user_id\"], row[\"content_id\"]), axis=1)\n",
        "    test_df[\"lagtime\"]=lagtime\n",
        "    test_df[\"lagtime2\"]=lagtime2\n",
        "    test_df[\"lagtime3\"]=lagtime3\n",
        "\n",
        "\n",
        "    \n",
        "\n",
        "    test_df['timestamp']=test_df['timestamp']/(1000*3600)\n",
        "    test_df.timestamp=test_df.timestamp.astype('float16')\n",
        "    test_df['lagtime']=test_df['lagtime']/(1000*3600)\n",
        "    test_df.lagtime=test_df.lagtime.astype('float32')\n",
        "    test_df['lagtime2']=test_df['lagtime2']/(1000*3600)\n",
        "    test_df.lagtime2=test_df.lagtime2.astype('float32')\n",
        "    test_df['lagtime3']=test_df['lagtime3']/(1000*3600)\n",
        "    test_df.lagtime3=test_df.lagtime3.astype('float32')\n",
        "    test_df['user_interaction_timestamp_mean']=test_df['user_interaction_timestamp_mean']/(1000*3600)\n",
        "    test_df.user_interaction_timestamp_mean=test_df.user_interaction_timestamp_mean.astype('float32')\n",
        "    \n",
        "    test_df['user_correctness'].fillna(0.67, inplace=True)\n",
        "\n",
        "    sub_preds = np.zeros(test_df.shape[0])\n",
        "    for i, model in enumerate(clfs, 1):\n",
        "        test_preds  = model.predict(test_df[features])\n",
        "        sub_preds += test_preds\n",
        "    o2=sub_preds / len(clfs)\n",
        "    test_df[target]=0.5*np.array(outs)+0.5*np.array(o2)\n",
        "    env.predict(test_df[['row_id', target]])"
      ],
      "execution_count": null,
      "outputs": []
    },
    {
      "cell_type": "code",
      "metadata": {
        "papermill": {
          "duration": 0.108413,
          "end_time": "2021-01-03T22:57:01.295441",
          "exception": false,
          "start_time": "2021-01-03T22:57:01.187028",
          "status": "completed"
        },
        "tags": [],
        "id": "bCUUKoUfSnPa"
      },
      "source": [
        ""
      ],
      "execution_count": null,
      "outputs": []
    }
  ]
}